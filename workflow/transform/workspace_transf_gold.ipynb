{
 "cells": [
  {
   "cell_type": "code",
   "execution_count": 10,
   "id": "02aa0933",
   "metadata": {},
   "outputs": [],
   "source": [
    "import pandas as pd\n",
    "import os"
   ]
  },
  {
   "cell_type": "code",
   "execution_count": 30,
   "id": "a8fd9e15",
   "metadata": {},
   "outputs": [],
   "source": [
    "def read_file(file_name: str):\n",
    "    df = pd.read_csv(\n",
    "        f\"/home/edcarlos/Data-Analytics-Comercio-Exterior/datalake/silver/{file_name}.csv\"\n",
    "    ).set_index([\"cd_pais\"])\n",
    "    return df\n",
    "\n",
    "# Caminho da pasta onde estão os arquivos\n",
    "folder_path = \"/home/edcarlos/Data-Analytics-Comercio-Exterior/datalake/silver/\"\n",
    "file_list = os.listdir(folder_path)\n",
    "\n",
    "# Listas para os arquivos de importação e exportação\n",
    "import_files = []\n",
    "export_files = []\n",
    "\n",
    "# Separa os arquivos conforme o nome\n",
    "for file in file_list:\n",
    "    if file.endswith(\".csv\"):\n",
    "        if \"importacao\" in file.lower():\n",
    "            import_files.append(file)\n",
    "        elif \"exportacao\" in file.lower():\n",
    "            export_files.append(file)\n",
    "\n",
    "# Lê e concatena os arquivos\n",
    "import_dfs = [read_file(f.split(\".\")[0]) for f in import_files]\n",
    "export_dfs = [read_file(f.split(\".\")[0]) for f in export_files]\n",
    "\n",
    "# Junta os arquivos de cada tipo\n",
    "df_importacao = pd.concat(import_dfs).reset_index().sort_values([\"cd_pais\"])\n",
    "df_exportacao = pd.concat(export_dfs).reset_index().sort_values([\"cd_pais\"])\n"
   ]
  },
  {
   "cell_type": "code",
   "execution_count": 31,
   "id": "7409654d",
   "metadata": {},
   "outputs": [],
   "source": [
    "df_importacao.to_csv(\"/home/edcarlos/Data-Analytics-Comercio-Exterior/datalake/gold/importacao_gold.csv\", index=False)\n",
    "df_exportacao.to_csv(\"/home/edcarlos/Data-Analytics-Comercio-Exterior/datalake/gold/exportacao_gold.csv\", index=False)"
   ]
  }
 ],
 "metadata": {
  "kernelspec": {
   "display_name": "Python 3",
   "language": "python",
   "name": "python3"
  },
  "language_info": {
   "codemirror_mode": {
    "name": "ipython",
    "version": 3
   },
   "file_extension": ".py",
   "mimetype": "text/x-python",
   "name": "python",
   "nbconvert_exporter": "python",
   "pygments_lexer": "ipython3",
   "version": "3.11.9"
  }
 },
 "nbformat": 4,
 "nbformat_minor": 5
}
