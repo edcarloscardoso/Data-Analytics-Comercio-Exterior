{
 "cells": [
  {
   "cell_type": "code",
   "execution_count": 1,
   "id": "69ebe2c1",
   "metadata": {},
   "outputs": [],
   "source": [
    "import pandas as pd\n",
    "import os\n",
    "\n",
    "# Caminho da pasta silver\n",
    "silver_path = '/home/edcarlos/Data-Analytics-Comercio-Exterior/datalake/silver'\n",
    "\n",
    "# Listar arquivos da pasta\n",
    "arquivos = os.listdir(silver_path)\n",
    "\n",
    "# Separar os arquivos por tipo\n",
    "importacao_arquivos = [f for f in arquivos if 'importacao' in f]\n",
    "exportacao_arquivos = [f for f in arquivos if 'exportacao' in f]\n",
    "\n",
    "# Função para ler e concatenar arquivos\n",
    "def juntar_arquivos(lista_arquivos, path):\n",
    "    dfs = []\n",
    "    for arquivo in lista_arquivos:\n",
    "        df = pd.read_csv(os.path.join(path, arquivo))\n",
    "        df['arquivo_origem'] = arquivo  # opcional: para rastrear de onde veio cada linha\n",
    "        dfs.append(df)\n",
    "    return pd.concat(dfs, ignore_index=True)\n",
    "\n",
    "# Criar os DataFrames consolidados\n",
    "df_importacao = juntar_arquivos(importacao_arquivos, silver_path)\n",
    "df_exportacao = juntar_arquivos(exportacao_arquivos, silver_path)\n",
    "\n",
    "# Salvar na camada gold\n",
    "gold_path = '/home/edcarlos/Data-Analytics-Comercio-Exterior/datalake/gold'\n",
    "df_importacao.to_csv(os.path.join(gold_path, 'importacao_gold.csv'), index=False)\n",
    "df_exportacao.to_csv(os.path.join(gold_path, 'exportacao_gold.csv'), index=False)\n"
   ]
  }
 ],
 "metadata": {
  "kernelspec": {
   "display_name": "Python 3",
   "language": "python",
   "name": "python3"
  },
  "language_info": {
   "codemirror_mode": {
    "name": "ipython",
    "version": 3
   },
   "file_extension": ".py",
   "mimetype": "text/x-python",
   "name": "python",
   "nbconvert_exporter": "python",
   "pygments_lexer": "ipython3",
   "version": "3.11.9"
  }
 },
 "nbformat": 4,
 "nbformat_minor": 5
}
