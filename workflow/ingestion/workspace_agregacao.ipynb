{
 "cells": [
  {
   "cell_type": "code",
   "execution_count": 1,
   "id": "a01cb81c",
   "metadata": {},
   "outputs": [],
   "source": [
    "import requests"
   ]
  },
  {
   "cell_type": "code",
   "execution_count": 3,
   "id": "ee581da5",
   "metadata": {},
   "outputs": [],
   "source": [
    "bucket_path = \"../../datalake/raw_data\"\n",
    "\n",
    "parametros = [\n",
    "    (\"https://balanca.economia.gov.br/balanca/bd/tabelas/NCM.csv\", f\"{bucket_path}/NCM.csv\"),\n",
    "    (\"https://balanca.economia.gov.br/balanca/bd/tabelas/PAIS.csv\", f\"{bucket_path}/PAIS.csv\"),\n",
    "    (\"https://balanca.economia.gov.br/balanca/bd/tabelas/NCM_SH.csv\", f\"{bucket_path}/NCM_SH.csv\"),\n",
    "    (\"https://balanca.economia.gov.br/balanca/bd/tabelas/URF.csv\", f\"{bucket_path}/URF.csv\"),\n",
    "    (\"https://balanca.economia.gov.br/balanca/bd/tabelas/UF_MUN.csv\", f\"{bucket_path}/UF_MUN.csv\"),\n",
    "    (\"https://balanca.economia.gov.br/balanca/bd/tabelas/VIA.csv\", f\"{bucket_path}/VIA.csv\"),\n",
    "    (\"https://balanca.economia.gov.br/balanca/bd/tabelas/NCM_UNIDADE.csv\", f\"{bucket_path}/NCM_UNIDADE.csv\")\n",
    "\n",
    "]\n",
    "\n",
    "for url, arquivo in parametros:\n",
    "    with requests.Session() as session:\n",
    "        response = session.get(url)\n",
    "        with open(arquivo, \"wb\") as a:\n",
    "            a.write(response.content)"
   ]
  }
 ],
 "metadata": {
  "kernelspec": {
   "display_name": ".venv",
   "language": "python",
   "name": "python3"
  },
  "language_info": {
   "codemirror_mode": {
    "name": "ipython",
    "version": 3
   },
   "file_extension": ".py",
   "mimetype": "text/x-python",
   "name": "python",
   "nbconvert_exporter": "python",
   "pygments_lexer": "ipython3",
   "version": "3.12.3"
  }
 },
 "nbformat": 4,
 "nbformat_minor": 5
}
