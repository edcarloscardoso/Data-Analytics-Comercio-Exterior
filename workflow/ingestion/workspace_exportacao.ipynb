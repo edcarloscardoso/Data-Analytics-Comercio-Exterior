{
 "cells": [
  {
   "cell_type": "code",
   "execution_count": 1,
   "id": "1b231921",
   "metadata": {},
   "outputs": [],
   "source": [
    "import requests"
   ]
  },
  {
   "cell_type": "code",
   "execution_count": 3,
   "id": "1e2c9f5a",
   "metadata": {},
   "outputs": [],
   "source": [
    "bucket_path = \"/home/edcarlos/Data-Analytics-Comercio-Exterior/datalake/raw_data\"\n",
    "\n",
    "parametros = [\n",
    "    (\"https://balanca.economia.gov.br/balanca/bd/comexstat-bd/ncm/EXP_2023.csv\", f\"{bucket_path}/EXP_2023.csv\"),\n",
    "    (\"https://balanca.economia.gov.br/balanca/bd/comexstat-bd/ncm/EXP_2024.csv\", f\"{bucket_path}/EXP_2024.csv\"),\n",
    "    (\"https://balanca.economia.gov.br/balanca/bd/comexstat-bd/mun/EXP_2023_MUN.csv\", f\"{bucket_path}/EXP_2023_MUN.csv\"),\n",
    "    (\"https://balanca.economia.gov.br/balanca/bd/comexstat-bd/mun/EXP_2024_MUN.csv\", f\"{bucket_path}/EXP_2024_MUN.csv\"),\n",
    "    \n",
    "]\n",
    "\n",
    "for url, arquivo in parametros:\n",
    "    with requests.Session() as session:\n",
    "        response = session.get(url)\n",
    "        with open(arquivo, \"wb\") as a:\n",
    "            a.write(response.content)"
   ]
  }
 ],
 "metadata": {
  "kernelspec": {
   "display_name": "Python 3",
   "language": "python",
   "name": "python3"
  },
  "language_info": {
   "codemirror_mode": {
    "name": "ipython",
    "version": 3
   },
   "file_extension": ".py",
   "mimetype": "text/x-python",
   "name": "python",
   "nbconvert_exporter": "python",
   "pygments_lexer": "ipython3",
   "version": "3.11.9"
  }
 },
 "nbformat": 4,
 "nbformat_minor": 5
}
