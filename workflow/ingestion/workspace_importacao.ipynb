{
 "cells": [
  {
   "cell_type": "code",
   "execution_count": 1,
   "metadata": {},
   "outputs": [],
   "source": [
    "import requests"
   ]
  },
  {
   "cell_type": "code",
   "execution_count": null,
   "metadata": {},
   "outputs": [],
   "source": [
    "bucket_path = \"../../datalake/raw_data\"\n",
    "\n",
    "parametros = [\n",
    "    (\"https://balanca.economia.gov.br/balanca/bd/comexstat-bd/ncm/IMP_2023.csv\", f\"{bucket_path}/IMP_2023.csv\"),\n",
    "    (\"https://balanca.economia.gov.br/balanca/bd/comexstat-bd/ncm/IMP_2024.csv\", f\"{bucket_path}/IMP_2024.csv\"),\n",
    "    (\"https://balanca.economia.gov.br/balanca/bd/comexstat-bd/mun/IMP_2023_MUN.csv\", f\"{bucket_path}/IMP_2023_MUN.csv\"),\n",
    "    (\"https://balanca.economia.gov.br/balanca/bd/comexstat-bd/mun/IMP_2024_MUN.csv\", f\"{bucket_path}/IMP_2024_MUN.csv\"),\n",
    "\n",
    "]\n",
    "\n",
    "for url, arquivo in parametros:\n",
    "    with requests.Session() as session:\n",
    "        response = session.get(url)\n",
    "        with open(arquivo, \"wb\") as a:\n",
    "            a.write(response.content)\n",
    "\n"
   ]
  }
 ],
 "metadata": {
  "kernelspec": {
   "display_name": ".venv",
   "language": "python",
   "name": "python3"
  },
  "language_info": {
   "codemirror_mode": {
    "name": "ipython",
    "version": 3
   },
   "file_extension": ".py",
   "mimetype": "text/x-python",
   "name": "python",
   "nbconvert_exporter": "python",
   "pygments_lexer": "ipython3",
   "version": "3.12.3"
  }
 },
 "nbformat": 4,
 "nbformat_minor": 2
}
