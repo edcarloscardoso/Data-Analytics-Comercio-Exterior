{
 "cells": [
  {
   "cell_type": "code",
   "execution_count": 2,
   "metadata": {},
   "outputs": [],
   "source": [
    "import requests"
   ]
  },
  {
   "cell_type": "code",
   "execution_count": 2,
   "metadata": {},
   "outputs": [],
   "source": [
    "url = \"https://balanca.economia.gov.br/balanca/bd/comexstat-bd/mun/EXP_2023_MUN.csv\"\n",
    "caminho_arquivo = \"/home/edcarlos/work_environment/datalake/EXP_2023_MUN.csv\"\n",
    "\n",
    "response = requests.get(url)\n",
    "with open(caminho_arquivo, \"wb\") as arquivo:\n",
    "    arquivo.write(response.content)"
   ]
  },
  {
   "cell_type": "code",
   "execution_count": 3,
   "metadata": {},
   "outputs": [],
   "source": [
    "url = \"https://balanca.economia.gov.br/balanca/bd/comexstat-bd/mun/EXP_2024_MUN.csv\"\n",
    "caminho_arquivo = \"/home/edcarlos/work_environment/datalake/EXP_2024_MUN.csv\"\n",
    "\n",
    "response = requests.get(url)\n",
    "with open(caminho_arquivo, \"wb\") as arquivo:\n",
    "    arquivo.write(response.content)"
   ]
  },
  {
   "cell_type": "code",
   "execution_count": 4,
   "metadata": {},
   "outputs": [],
   "source": [
    "url = \"https://balanca.economia.gov.br/balanca/bd/comexstat-bd/mun/IMP_2023_MUN.csv\"\n",
    "caminho_arquivo = \"/home/edcarlos/work_environment/datalake/IMP_2023_MUN.csv\"\n",
    "\n",
    "response = requests.get(url)\n",
    "with open(caminho_arquivo, \"wb\") as arquivo:\n",
    "    arquivo.write(response.content)"
   ]
  },
  {
   "cell_type": "code",
   "execution_count": 5,
   "metadata": {},
   "outputs": [],
   "source": [
    "url = \"https://balanca.economia.gov.br/balanca/bd/comexstat-bd/mun/IMP_2024_MUN.csv\"\n",
    "caminho_arquivo = \"/home/edcarlos/work_environment/datalake/IMP_2024_MUN.csv\"\n",
    "\n",
    "response = requests.get(url)\n",
    "with open(caminho_arquivo, \"wb\") as arquivo:\n",
    "    arquivo.write(response.content)"
   ]
  },
  {
   "cell_type": "code",
   "execution_count": 4,
   "metadata": {},
   "outputs": [],
   "source": [
    "url = \"https://balanca.economia.gov.br/balanca/bd/tabelas/NCM.csv\"\n",
    "caminho_arquivo = \"/home/edcarlos/work_environment/datalake/NCM.csv\"\n",
    "\n",
    "response = requests.get(url)\n",
    "with open(caminho_arquivo, \"wb\") as arquivo:\n",
    "    arquivo.write(response.content)"
   ]
  },
  {
   "cell_type": "code",
   "execution_count": 14,
   "metadata": {},
   "outputs": [],
   "source": [
    "url = \"https://balanca.economia.gov.br/balanca/bd/tabelas/PAIS.csv\"\n",
    "caminho_arquivo = \"/home/edcarlos/work_environment/datalake/PAIS.csv\"\n",
    "\n",
    "response = requests.get(url)\n",
    "with open(caminho_arquivo, \"wb\") as arquivo:\n",
    "    arquivo.write(response.content)"
   ]
  },
  {
   "cell_type": "code",
   "execution_count": 20,
   "metadata": {},
   "outputs": [],
   "source": [
    "url = \"https://balanca.economia.gov.br/balanca/bd/tabelas/NCM_SH.csv\"\n",
    "caminho_arquivo = \"/home/edcarlos/work_environment/datalake/NCM_SH.csv\"\n",
    "\n",
    "response = requests.get(url)\n",
    "with open(caminho_arquivo, \"wb\") as arquivo:\n",
    "    arquivo.write(response.content)\n"
   ]
  },
  {
   "cell_type": "code",
   "execution_count": 21,
   "metadata": {},
   "outputs": [],
   "source": [
    "\n",
    "url = \"https://balanca.economia.gov.br/balanca/bd/tabelas/URF.csv\"\n",
    "caminho_arquivo = \"/home/edcarlos/work_environment/datalake/URF.csv\"\n",
    "\n",
    "response = requests.get(url)\n",
    "with open(caminho_arquivo, \"wb\") as arquivo:\n",
    "    arquivo.write(response.content)"
   ]
  },
  {
   "cell_type": "code",
   "execution_count": 22,
   "metadata": {},
   "outputs": [],
   "source": [
    "\n",
    "url = \"https://balanca.economia.gov.br/balanca/bd/tabelas/UF_MUN.csv\"\n",
    "caminho_arquivo = \"/home/edcarlos/work_environment/datalake/UF_MUN.csv\"\n",
    "\n",
    "response = requests.get(url)\n",
    "with open(caminho_arquivo, \"wb\") as arquivo:\n",
    "    arquivo.write(response.content)"
   ]
  },
  {
   "cell_type": "code",
   "execution_count": 3,
   "metadata": {},
   "outputs": [],
   "source": [
    "url = \"https://balanca.economia.gov.br/balanca/bd/tabelas/VIA.csv\"\n",
    "caminho_arquivo = \"/home/edcarlos/work_environment/datalake/landing/VIA.csv\"\n",
    "\n",
    "response = requests.get(url)\n",
    "with open(caminho_arquivo, \"wb\") as arquivo:\n",
    "    arquivo.write(response.content)\n",
    "\n"
   ]
  }
 ],
 "metadata": {
  "kernelspec": {
   "display_name": "Python 3",
   "language": "python",
   "name": "python3"
  },
  "language_info": {
   "codemirror_mode": {
    "name": "ipython",
    "version": 3
   },
   "file_extension": ".py",
   "mimetype": "text/x-python",
   "name": "python",
   "nbconvert_exporter": "python",
   "pygments_lexer": "ipython3",
   "version": "3.11.9"
  }
 },
 "nbformat": 4,
 "nbformat_minor": 2
}
