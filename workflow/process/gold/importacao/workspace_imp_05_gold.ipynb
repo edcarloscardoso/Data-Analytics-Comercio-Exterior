{
 "cells": [
  {
   "cell_type": "markdown",
   "id": "822649a2",
   "metadata": {},
   "source": [
    "Evolução Temporal das Importações"
   ]
  },
  {
   "cell_type": "code",
   "execution_count": 1,
   "id": "3dd83f4c",
   "metadata": {},
   "outputs": [],
   "source": [
    "import pandas as pd"
   ]
  },
  {
   "cell_type": "code",
   "execution_count": null,
   "id": "c9a59529",
   "metadata": {},
   "outputs": [],
   "source": [
    "df = pd.read_csv(\"../../../../datalake/gold/importacao_gold.csv\", low_memory=False)"
   ]
  },
  {
   "cell_type": "code",
   "execution_count": 3,
   "id": "533c3c6c",
   "metadata": {},
   "outputs": [],
   "source": [
    "df['data_importacao'] = pd.to_datetime(df['data_importacao'], errors='coerce')\n",
    "df['ano_mes'] = df['data_importacao'].dt.to_period('M')\n",
    "\n",
    "evolucao_mensal = (\n",
    "    df.groupby('ano_mes')['vl_dolarfob']\n",
    "    .sum()\n",
    "    .reset_index()\n",
    "    .sort_values('ano_mes')\n",
    ")"
   ]
  },
  {
   "cell_type": "code",
   "execution_count": null,
   "id": "13fcac1c",
   "metadata": {},
   "outputs": [],
   "source": [
    "evolucao_mensal.to_csv(\n",
    "    \"../../../../datalake/gold/agreg_importacao/evol_temp_imp.csv\",\n",
    "    index=False\n",
    ")"
   ]
  }
 ],
 "metadata": {
  "kernelspec": {
   "display_name": ".venv",
   "language": "python",
   "name": "python3"
  },
  "language_info": {
   "codemirror_mode": {
    "name": "ipython",
    "version": 3
   },
   "file_extension": ".py",
   "mimetype": "text/x-python",
   "name": "python",
   "nbconvert_exporter": "python",
   "pygments_lexer": "ipython3",
   "version": "3.12.3"
  }
 },
 "nbformat": 4,
 "nbformat_minor": 5
}
