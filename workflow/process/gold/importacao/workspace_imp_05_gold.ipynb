{
 "cells": [
  {
   "cell_type": "markdown",
   "id": "822649a2",
   "metadata": {},
   "source": [
    "Evolução Temporal das Importações"
   ]
  },
  {
   "cell_type": "code",
   "execution_count": 2,
   "id": "3dd83f4c",
   "metadata": {},
   "outputs": [],
   "source": [
    "import pandas as pd"
   ]
  },
  {
   "cell_type": "code",
   "execution_count": 3,
   "id": "c9a59529",
   "metadata": {},
   "outputs": [],
   "source": [
    "df = pd.read_csv(\"/home/edcarlos/Data-Analytics-Comercio-Exterior/datalake/gold/importacao_gold.csv\", low_memory=False)"
   ]
  },
  {
   "cell_type": "code",
   "execution_count": 8,
   "id": "533c3c6c",
   "metadata": {},
   "outputs": [],
   "source": [
    "df['data_importacao'] = pd.to_datetime(df['data_importacao'], errors='coerce')\n",
    "\n",
    "df['ano_mes'] = df['data_importacao'].dt.to_period('M')\n",
    "\n",
    "evolucao_mensal = df.groupby('ano_mes')['vl_dolarfob'].sum()\n",
    "\n",
    "evolucao_mensal_formatado = evolucao_mensal.apply(lambda x: f\"${x:,.2f}\")"
   ]
  },
  {
   "cell_type": "code",
   "execution_count": 7,
   "id": "13fcac1c",
   "metadata": {},
   "outputs": [],
   "source": [
    "evolucao_mensal_formatado.to_csv(\n",
    "    \"/home/edcarlos/Data-Analytics-Comercio-Exterior/datalake/gold/agreg_importacao/evol_temp_imp.csv\",\n",
    "    index=False\n",
    ")"
   ]
  }
 ],
 "metadata": {
  "kernelspec": {
   "display_name": "Python 3",
   "language": "python",
   "name": "python3"
  },
  "language_info": {
   "codemirror_mode": {
    "name": "ipython",
    "version": 3
   },
   "file_extension": ".py",
   "mimetype": "text/x-python",
   "name": "python",
   "nbconvert_exporter": "python",
   "pygments_lexer": "ipython3",
   "version": "3.11.9"
  }
 },
 "nbformat": 4,
 "nbformat_minor": 5
}
