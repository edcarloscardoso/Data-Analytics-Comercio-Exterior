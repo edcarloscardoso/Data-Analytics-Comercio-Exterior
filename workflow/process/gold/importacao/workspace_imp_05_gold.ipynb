{
 "cells": [
  {
   "cell_type": "markdown",
   "id": "822649a2",
   "metadata": {},
   "source": [
    "Evolução Temporal das Importações"
   ]
  },
  {
   "cell_type": "code",
   "execution_count": 11,
   "id": "3dd83f4c",
   "metadata": {},
   "outputs": [],
   "source": [
    "import pandas as pd"
   ]
  },
  {
   "cell_type": "code",
   "execution_count": 12,
   "id": "c9a59529",
   "metadata": {},
   "outputs": [],
   "source": [
    "df = pd.read_csv(\"/home/edcarlos/Data-Analytics-Comercio-Exterior/datalake/gold/importacao_gold.csv\", low_memory=False)"
   ]
  },
  {
   "cell_type": "code",
   "execution_count": null,
   "id": "533c3c6c",
   "metadata": {},
   "outputs": [
    {
     "name": "stdout",
     "output_type": "stream",
     "text": [
      "    ano_mes   vl_dolarfob\n",
      "0   2023-01  215786230905\n",
      "1   2023-02  184134377514\n",
      "2   2023-03  232468876184\n",
      "3   2023-04  198336863437\n",
      "4   2023-05  224207844722\n",
      "5   2023-06  206516058710\n",
      "6   2023-07  210206093547\n",
      "7   2023-08  229784851753\n",
      "8   2023-09  208114102010\n",
      "9   2023-10  215232199378\n",
      "10  2023-11  202965856393\n",
      "11  2023-12  207399235045\n",
      "12  2024-01  219248994417\n",
      "13  2024-02  195543745026\n",
      "14  2024-03  215112860518\n",
      "15  2024-04  229027656745\n",
      "16  2024-05  228452666455\n",
      "17  2024-06  238090894160\n",
      "18  2024-07  247343506646\n",
      "19  2024-08  258959371212\n",
      "20  2024-09  248362777418\n",
      "21  2024-10  274600823484\n",
      "22  2024-11  227885678014\n",
      "23  2024-12  217544683042\n"
     ]
    }
   ],
   "source": [
    "df['data_importacao'] = pd.to_datetime(df['data_importacao'], errors='coerce')\n",
    "df['ano_mes'] = df['data_importacao'].dt.to_period('M')\n",
    "\n",
    "evolucao_mensal = (\n",
    "    df.groupby('ano_mes')['vl_dolarfob']\n",
    "    .sum()\n",
    "    .reset_index()\n",
    "    .sort_values('ano_mes')\n",
    ")\n",
    "\n",
    "print(evolucao_mensal)"
   ]
  },
  {
   "cell_type": "code",
   "execution_count": 14,
   "id": "13fcac1c",
   "metadata": {},
   "outputs": [],
   "source": [
    "evolucao_mensal.to_csv(\n",
    "    \"/home/edcarlos/Data-Analytics-Comercio-Exterior/datalake/gold/agreg_importacao/evol_temp_imp.csv\",\n",
    "    index=False\n",
    ")"
   ]
  }
 ],
 "metadata": {
  "kernelspec": {
   "display_name": "Python 3",
   "language": "python",
   "name": "python3"
  },
  "language_info": {
   "codemirror_mode": {
    "name": "ipython",
    "version": 3
   },
   "file_extension": ".py",
   "mimetype": "text/x-python",
   "name": "python",
   "nbconvert_exporter": "python",
   "pygments_lexer": "ipython3",
   "version": "3.11.9"
  }
 },
 "nbformat": 4,
 "nbformat_minor": 5
}
