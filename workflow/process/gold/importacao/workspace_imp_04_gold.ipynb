{
 "cells": [
  {
   "cell_type": "markdown",
   "id": "b7a6504b",
   "metadata": {},
   "source": [
    "Importações por país"
   ]
  },
  {
   "cell_type": "code",
   "execution_count": 2,
   "id": "1e00ad88",
   "metadata": {},
   "outputs": [],
   "source": [
    "import pandas as pd"
   ]
  },
  {
   "cell_type": "code",
   "execution_count": 3,
   "id": "c1cde12c",
   "metadata": {},
   "outputs": [],
   "source": [
    "df = pd.read_csv(\"/home/edcarlos/Data-Analytics-Comercio-Exterior/datalake/gold/importacao_gold.csv\", low_memory=False)"
   ]
  },
  {
   "cell_type": "code",
   "execution_count": 6,
   "id": "a7c90ec2",
   "metadata": {},
   "outputs": [],
   "source": [
    "importacao_por_pais = df.groupby('cd_pais')['vl_dolarfob'].sum().sort_values(ascending=False).head(10)\n",
    "importacao_por_pais_formatado = importacao_por_pais.apply(lambda x: f\"${x:,.2f}\")\n"
   ]
  },
  {
   "cell_type": "code",
   "execution_count": 7,
   "id": "591a0ab3",
   "metadata": {},
   "outputs": [],
   "source": [
    "importacao_por_pais_formatado.to_csv(\n",
    "    \"/home/edcarlos/Data-Analytics-Comercio-Exterior/datalake/gold/agreg_importacao/top_10_paises_imp.csv\",\n",
    "    index=False\n",
    ")"
   ]
  }
 ],
 "metadata": {
  "kernelspec": {
   "display_name": "Python 3",
   "language": "python",
   "name": "python3"
  },
  "language_info": {
   "codemirror_mode": {
    "name": "ipython",
    "version": 3
   },
   "file_extension": ".py",
   "mimetype": "text/x-python",
   "name": "python",
   "nbconvert_exporter": "python",
   "pygments_lexer": "ipython3",
   "version": "3.11.9"
  }
 },
 "nbformat": 4,
 "nbformat_minor": 5
}
