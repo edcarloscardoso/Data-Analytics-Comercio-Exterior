{
 "cells": [
  {
   "cell_type": "markdown",
   "id": "bd55a58b",
   "metadata": {},
   "source": [
    "Top 10 Produtos Importados (por NCM)"
   ]
  },
  {
   "cell_type": "code",
   "execution_count": 1,
   "id": "44ae56ad",
   "metadata": {},
   "outputs": [],
   "source": [
    "import pandas as pd"
   ]
  },
  {
   "cell_type": "code",
   "execution_count": null,
   "id": "3c68dd5a",
   "metadata": {},
   "outputs": [],
   "source": [
    "df = pd.read_csv(\"../../../../datalake/gold/importacao_gold.csv\", low_memory=False)"
   ]
  },
  {
   "cell_type": "code",
   "execution_count": 3,
   "id": "8e6ee084",
   "metadata": {},
   "outputs": [],
   "source": [
    "top_produtos = (\n",
    "    df.groupby('cd_ncm', as_index=False)['vl_dolarfob']\n",
    "    .sum()\n",
    "    .sort_values(by='vl_dolarfob', ascending=False)\n",
    "    .head(10)\n",
    ")"
   ]
  },
  {
   "cell_type": "code",
   "execution_count": null,
   "id": "424ec43b",
   "metadata": {},
   "outputs": [],
   "source": [
    "top_produtos.to_csv(\n",
    "    \"../../../../datalake/gold/agreg_importacao/top_10_produtos.csv\",\n",
    "    index=False\n",
    ")"
   ]
  }
 ],
 "metadata": {
  "kernelspec": {
   "display_name": ".venv",
   "language": "python",
   "name": "python3"
  },
  "language_info": {
   "codemirror_mode": {
    "name": "ipython",
    "version": 3
   },
   "file_extension": ".py",
   "mimetype": "text/x-python",
   "name": "python",
   "nbconvert_exporter": "python",
   "pygments_lexer": "ipython3",
   "version": "3.12.3"
  }
 },
 "nbformat": 4,
 "nbformat_minor": 5
}
