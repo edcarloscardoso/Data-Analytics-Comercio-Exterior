{
 "cells": [
  {
   "cell_type": "markdown",
   "id": "894cb4b7",
   "metadata": {},
   "source": [
    "Custo Logístico (frete + seguro / FOB)"
   ]
  },
  {
   "cell_type": "code",
   "execution_count": 1,
   "id": "03e7f9cf",
   "metadata": {},
   "outputs": [],
   "source": [
    "import pandas as pd"
   ]
  },
  {
   "cell_type": "code",
   "execution_count": 2,
   "id": "5d700665",
   "metadata": {},
   "outputs": [],
   "source": [
    "df = pd.read_csv(\"/home/edcarlos/Data-Analytics-Comercio-Exterior/datalake/gold/importacao_gold.csv\", low_memory=False)"
   ]
  },
  {
   "cell_type": "code",
   "execution_count": 3,
   "id": "7cff622c",
   "metadata": {},
   "outputs": [],
   "source": [
    "df['vl_dolarfob'] = df['vl_dolarfob'].replace(0, pd.NA)\n",
    "\n",
    "df['perc_frete'] = df['vl_frete'] / df['vl_dolarfob']\n",
    "df['perc_seguro'] = df['vl_seguro'] / df['vl_dolarfob']\n",
    "\n",
    "media_frete = df['perc_frete'].mean(skipna=True)\n",
    "media_seguro = df['perc_seguro'].mean(skipna=True)\n"
   ]
  },
  {
   "cell_type": "code",
   "execution_count": 4,
   "id": "7f0c836a",
   "metadata": {},
   "outputs": [],
   "source": [
    "resultado = pd.DataFrame({\n",
    "    'indicador': ['Média percentual do frete', 'Média percentual do seguro'],\n",
    "    'valor_percentual': [media_frete, media_seguro]\n",
    "})"
   ]
  },
  {
   "cell_type": "code",
   "execution_count": 5,
   "id": "42367909",
   "metadata": {},
   "outputs": [],
   "source": [
    "resultado.to_csv(\n",
    "    \"/home/edcarlos/Data-Analytics-Comercio-Exterior/datalake/gold/agreg_importacao/media_frete_seguro.csv\",\n",
    "    index=False\n",
    ")"
   ]
  }
 ],
 "metadata": {
  "kernelspec": {
   "display_name": "Python 3",
   "language": "python",
   "name": "python3"
  },
  "language_info": {
   "codemirror_mode": {
    "name": "ipython",
    "version": 3
   },
   "file_extension": ".py",
   "mimetype": "text/x-python",
   "name": "python",
   "nbconvert_exporter": "python",
   "pygments_lexer": "ipython3",
   "version": "3.11.9"
  }
 },
 "nbformat": 4,
 "nbformat_minor": 5
}
