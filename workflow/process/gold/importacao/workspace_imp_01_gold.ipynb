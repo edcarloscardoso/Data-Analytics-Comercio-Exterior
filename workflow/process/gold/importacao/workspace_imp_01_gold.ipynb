{
 "cells": [
  {
   "cell_type": "markdown",
   "id": "517c1bad",
   "metadata": {},
   "source": [
    "Distribuição por Estado e por ano - Soma dos valores FOB"
   ]
  },
  {
   "cell_type": "code",
   "execution_count": 1,
   "id": "20a18456",
   "metadata": {},
   "outputs": [],
   "source": [
    "import pandas as pd"
   ]
  },
  {
   "cell_type": "code",
   "execution_count": 2,
   "id": "58a244bd",
   "metadata": {},
   "outputs": [],
   "source": [
    "df = pd.read_csv(\"/home/edcarlos/Data-Analytics-Comercio-Exterior/datalake/gold/importacao_gold.csv\", low_memory=False)\n"
   ]
  },
  {
   "cell_type": "code",
   "execution_count": 3,
   "id": "941860c3",
   "metadata": {},
   "outputs": [],
   "source": [
    "df['data_importacao'] = pd.to_datetime(df['data_importacao'])\n",
    "\n",
    "df['ano'] = df['data_importacao'].dt.year\n",
    "\n",
    "importacao_estado_ano = df.groupby(['sg_uf', 'ano'])['vl_dolarfob'].sum().reset_index()\n",
    "\n",
    "importacao_estado_ano = importacao_estado_ano.sort_values(by=['ano', 'vl_dolarfob'], ascending=[True, False])"
   ]
  },
  {
   "cell_type": "code",
   "execution_count": 4,
   "id": "7b0dccd5",
   "metadata": {},
   "outputs": [],
   "source": [
    "importacao_estado_ano.to_csv(\n",
    "    \"/home/edcarlos/Data-Analytics-Comercio-Exterior/datalake/gold/agreg_importacao/dist_pais_ano_vl_fob.csv\",\n",
    "    index=False\n",
    ")"
   ]
  }
 ],
 "metadata": {
  "kernelspec": {
   "display_name": "Python 3",
   "language": "python",
   "name": "python3"
  },
  "language_info": {
   "codemirror_mode": {
    "name": "ipython",
    "version": 3
   },
   "file_extension": ".py",
   "mimetype": "text/x-python",
   "name": "python",
   "nbconvert_exporter": "python",
   "pygments_lexer": "ipython3",
   "version": "3.11.9"
  }
 },
 "nbformat": 4,
 "nbformat_minor": 5
}
