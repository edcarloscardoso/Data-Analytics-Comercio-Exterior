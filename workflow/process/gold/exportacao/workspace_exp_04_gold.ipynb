{
 "cells": [
  {
   "cell_type": "markdown",
   "id": "dbae79e4",
   "metadata": {},
   "source": [
    "Exportações por Estado (UF) e Município"
   ]
  },
  {
   "cell_type": "code",
   "execution_count": 16,
   "id": "2bc4a38b",
   "metadata": {},
   "outputs": [],
   "source": [
    "import pandas as pd"
   ]
  },
  {
   "cell_type": "code",
   "execution_count": 17,
   "id": "531c18ac",
   "metadata": {},
   "outputs": [],
   "source": [
    "df = pd.read_csv(\"/home/edcarlos/Data-Analytics-Comercio-Exterior/datalake/gold/exportacao_gold.csv\", low_memory=False)"
   ]
  },
  {
   "cell_type": "code",
   "execution_count": 19,
   "id": "78e613cb",
   "metadata": {},
   "outputs": [],
   "source": [
    "export_por_uf_mun = (\n",
    "    df.groupby(['sg_uf', 'cd_mun'], as_index=False)\n",
    "    .agg({\n",
    "        'vl_dolarfob': 'sum',\n",
    "        'kg_liquido': 'sum'\n",
    "    })\n",
    "    .sort_values('vl_dolarfob', ascending=False)\n",
    ")\n",
    "\n",
    "export_por_uf_mun['vl_dolarfob_formatado'] = export_por_uf_mun['vl_dolarfob'].apply(lambda x: f\"${x:,.2f}\")"
   ]
  },
  {
   "cell_type": "code",
   "execution_count": null,
   "id": "f9c8fb1b",
   "metadata": {},
   "outputs": [],
   "source": [
    "export_por_uf_mun[['sg_uf', 'cd_mun', 'kg_liquido', 'vl_dolarfob_formatado']]"
   ]
  },
  {
   "cell_type": "code",
   "execution_count": 21,
   "id": "bc2cc3d3",
   "metadata": {},
   "outputs": [],
   "source": [
    "export_por_uf_mun.to_csv(\n",
    "    \"/home/edcarlos/Data-Analytics-Comercio-Exterior/datalake/gold/agreg_exportacao/exp_uf_mun.csv\",\n",
    "    index=False\n",
    ")"
   ]
  }
 ],
 "metadata": {
  "kernelspec": {
   "display_name": "Python 3",
   "language": "python",
   "name": "python3"
  },
  "language_info": {
   "codemirror_mode": {
    "name": "ipython",
    "version": 3
   },
   "file_extension": ".py",
   "mimetype": "text/x-python",
   "name": "python",
   "nbconvert_exporter": "python",
   "pygments_lexer": "ipython3",
   "version": "3.11.9"
  }
 },
 "nbformat": 4,
 "nbformat_minor": 5
}
