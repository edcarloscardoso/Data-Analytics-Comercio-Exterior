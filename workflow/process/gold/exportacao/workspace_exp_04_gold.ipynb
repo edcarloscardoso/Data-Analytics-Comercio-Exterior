{
 "cells": [
  {
   "cell_type": "markdown",
   "id": "dbae79e4",
   "metadata": {},
   "source": [
    "Exportações por Estado (UF) e Município"
   ]
  },
  {
   "cell_type": "code",
   "execution_count": 1,
   "id": "2bc4a38b",
   "metadata": {},
   "outputs": [],
   "source": [
    "import pandas as pd"
   ]
  },
  {
   "cell_type": "code",
   "execution_count": 2,
   "id": "531c18ac",
   "metadata": {},
   "outputs": [],
   "source": [
    "df = pd.read_csv(\"/home/edcarlos/Data-Analytics-Comercio-Exterior/datalake/gold/exportacao_gold.csv\", low_memory=False)"
   ]
  },
  {
   "cell_type": "code",
   "execution_count": 3,
   "id": "78e613cb",
   "metadata": {},
   "outputs": [],
   "source": [
    "export_por_uf_mun = (\n",
    "    df.groupby(['sg_uf', 'cd_mun'], as_index=False)\n",
    "    .agg({\n",
    "        'vl_dolarfob': 'sum',\n",
    "        'kg_liquido': 'sum'\n",
    "    })\n",
    "    .sort_values('vl_dolarfob', ascending=False)\n",
    ")\n",
    "\n",
    "export_por_uf_mun['vl_dolarfob_formatado'] = export_por_uf_mun['vl_dolarfob'].apply(lambda x: f\"${x:,.2f}\")"
   ]
  },
  {
   "cell_type": "code",
   "execution_count": 4,
   "id": "f9c8fb1b",
   "metadata": {},
   "outputs": [
    {
     "data": {
      "text/html": [
       "<div>\n",
       "<style scoped>\n",
       "    .dataframe tbody tr th:only-of-type {\n",
       "        vertical-align: middle;\n",
       "    }\n",
       "\n",
       "    .dataframe tbody tr th {\n",
       "        vertical-align: top;\n",
       "    }\n",
       "\n",
       "    .dataframe thead th {\n",
       "        text-align: right;\n",
       "    }\n",
       "</style>\n",
       "<table border=\"1\" class=\"dataframe\">\n",
       "  <thead>\n",
       "    <tr style=\"text-align: right;\">\n",
       "      <th></th>\n",
       "      <th>sg_uf</th>\n",
       "      <th>cd_mun</th>\n",
       "      <th>kg_liquido</th>\n",
       "      <th>vl_dolarfob_formatado</th>\n",
       "    </tr>\n",
       "  </thead>\n",
       "  <tbody>\n",
       "    <tr>\n",
       "      <th>2064</th>\n",
       "      <td>sc</td>\n",
       "      <td>itajai</td>\n",
       "      <td>112018041460</td>\n",
       "      <td>$185,428,869,585.00</td>\n",
       "    </tr>\n",
       "    <tr>\n",
       "      <th>1423</th>\n",
       "      <td>pr</td>\n",
       "      <td>paranagua</td>\n",
       "      <td>107207638083</td>\n",
       "      <td>$105,824,491,032.00</td>\n",
       "    </tr>\n",
       "    <tr>\n",
       "      <th>1573</th>\n",
       "      <td>rj</td>\n",
       "      <td>rio de janeiro</td>\n",
       "      <td>117005435060</td>\n",
       "      <td>$85,304,207,735.00</td>\n",
       "    </tr>\n",
       "    <tr>\n",
       "      <th>501</th>\n",
       "      <td>mg</td>\n",
       "      <td>araxa</td>\n",
       "      <td>2794054398</td>\n",
       "      <td>$69,644,271,542.00</td>\n",
       "    </tr>\n",
       "    <tr>\n",
       "      <th>2604</th>\n",
       "      <td>sp</td>\n",
       "      <td>sao bernardo do campo</td>\n",
       "      <td>6844940299</td>\n",
       "      <td>$68,899,732,431.00</td>\n",
       "    </tr>\n",
       "    <tr>\n",
       "      <th>...</th>\n",
       "      <td>...</td>\n",
       "      <td>...</td>\n",
       "      <td>...</td>\n",
       "      <td>...</td>\n",
       "    </tr>\n",
       "    <tr>\n",
       "      <th>876</th>\n",
       "      <td>mg</td>\n",
       "      <td>teixeiras</td>\n",
       "      <td>138</td>\n",
       "      <td>$27.00</td>\n",
       "    </tr>\n",
       "    <tr>\n",
       "      <th>2609</th>\n",
       "      <td>sp</td>\n",
       "      <td>sao jose da bela vista</td>\n",
       "      <td>0</td>\n",
       "      <td>$25.00</td>\n",
       "    </tr>\n",
       "    <tr>\n",
       "      <th>753</th>\n",
       "      <td>mg</td>\n",
       "      <td>olhos-d'agua</td>\n",
       "      <td>140</td>\n",
       "      <td>$20.00</td>\n",
       "    </tr>\n",
       "    <tr>\n",
       "      <th>819</th>\n",
       "      <td>mg</td>\n",
       "      <td>santa barbara do monte verde</td>\n",
       "      <td>266</td>\n",
       "      <td>$12.00</td>\n",
       "    </tr>\n",
       "    <tr>\n",
       "      <th>225</th>\n",
       "      <td>ba</td>\n",
       "      <td>varzea da roca</td>\n",
       "      <td>0</td>\n",
       "      <td>$6.00</td>\n",
       "    </tr>\n",
       "  </tbody>\n",
       "</table>\n",
       "<p>2708 rows × 4 columns</p>\n",
       "</div>"
      ],
      "text/plain": [
       "     sg_uf                        cd_mun    kg_liquido vl_dolarfob_formatado\n",
       "2064    sc                        itajai  112018041460   $185,428,869,585.00\n",
       "1423    pr                     paranagua  107207638083   $105,824,491,032.00\n",
       "1573    rj                rio de janeiro  117005435060    $85,304,207,735.00\n",
       "501     mg                         araxa    2794054398    $69,644,271,542.00\n",
       "2604    sp         sao bernardo do campo    6844940299    $68,899,732,431.00\n",
       "...    ...                           ...           ...                   ...\n",
       "876     mg                     teixeiras           138                $27.00\n",
       "2609    sp        sao jose da bela vista             0                $25.00\n",
       "753     mg                  olhos-d'agua           140                $20.00\n",
       "819     mg  santa barbara do monte verde           266                $12.00\n",
       "225     ba                varzea da roca             0                 $6.00\n",
       "\n",
       "[2708 rows x 4 columns]"
      ]
     },
     "execution_count": 4,
     "metadata": {},
     "output_type": "execute_result"
    }
   ],
   "source": [
    "export_por_uf_mun[['sg_uf', 'cd_mun', 'kg_liquido', 'vl_dolarfob_formatado']]"
   ]
  },
  {
   "cell_type": "code",
   "execution_count": 5,
   "id": "bc2cc3d3",
   "metadata": {},
   "outputs": [],
   "source": [
    "export_por_uf_mun.to_csv(\n",
    "    \"/home/edcarlos/Data-Analytics-Comercio-Exterior/datalake/gold/agreg_exportacao/exp_uf_mun.csv\",\n",
    "    index=False\n",
    ")"
   ]
  }
 ],
 "metadata": {
  "kernelspec": {
   "display_name": ".venv",
   "language": "python",
   "name": "python3"
  },
  "language_info": {
   "codemirror_mode": {
    "name": "ipython",
    "version": 3
   },
   "file_extension": ".py",
   "mimetype": "text/x-python",
   "name": "python",
   "nbconvert_exporter": "python",
   "pygments_lexer": "ipython3",
   "version": "3.12.3"
  }
 },
 "nbformat": 4,
 "nbformat_minor": 5
}
