{
 "cells": [
  {
   "cell_type": "markdown",
   "id": "06f42f48",
   "metadata": {},
   "source": [
    "Volume de Exportação por Tipo de Produto (NCM) em KG - Identificar quais produtos têm maior peso nas exportações"
   ]
  },
  {
   "cell_type": "code",
   "execution_count": 1,
   "id": "c84d233e",
   "metadata": {},
   "outputs": [],
   "source": [
    "import pandas as pd"
   ]
  },
  {
   "cell_type": "code",
   "execution_count": null,
   "id": "e539a25d",
   "metadata": {},
   "outputs": [],
   "source": [
    "df = pd.read_csv(\"../../../../datalake/gold/exportacao_gold.csv\", low_memory=False)"
   ]
  },
  {
   "cell_type": "code",
   "execution_count": 3,
   "id": "ae33ed3b",
   "metadata": {},
   "outputs": [],
   "source": [
    "volume_por_ncm = (\n",
    "    df.groupby('cd_ncm', as_index=False)['kg_liquido']\n",
    "    .sum()\n",
    "    .sort_values('kg_liquido', ascending=False)\n",
    "    .rename(columns={'kg_liquido': 'total_kg_exportados'})\n",
    ")"
   ]
  },
  {
   "cell_type": "code",
   "execution_count": null,
   "id": "141bfe72",
   "metadata": {},
   "outputs": [],
   "source": [
    "volume_por_ncm.to_csv(\n",
    "    \"../../../../datalake/gold/agreg_exportacao/volume_exp_produto.csv\",\n",
    "    index=False\n",
    ")"
   ]
  }
 ],
 "metadata": {
  "kernelspec": {
   "display_name": ".venv",
   "language": "python",
   "name": "python3"
  },
  "language_info": {
   "codemirror_mode": {
    "name": "ipython",
    "version": 3
   },
   "file_extension": ".py",
   "mimetype": "text/x-python",
   "name": "python",
   "nbconvert_exporter": "python",
   "pygments_lexer": "ipython3",
   "version": "3.12.3"
  }
 },
 "nbformat": 4,
 "nbformat_minor": 5
}
