{
 "cells": [
  {
   "cell_type": "markdown",
   "id": "0db1592e",
   "metadata": {},
   "source": [
    "Principais vias de transporte utilizadas"
   ]
  },
  {
   "cell_type": "code",
   "execution_count": 1,
   "id": "8fe2bae7",
   "metadata": {},
   "outputs": [],
   "source": [
    "import pandas as pd"
   ]
  },
  {
   "cell_type": "code",
   "execution_count": null,
   "id": "9966938e",
   "metadata": {},
   "outputs": [],
   "source": [
    "df = pd.read_csv(\"../../../../datalake/gold/exportacao_gold.csv\", low_memory=False)"
   ]
  },
  {
   "cell_type": "code",
   "execution_count": 3,
   "id": "4e67faaa",
   "metadata": {},
   "outputs": [],
   "source": [
    "vias_transporte = (\n",
    "    df['cd_via'].value_counts()\n",
    "    .reset_index()\n",
    "    .rename(columns={'index': 'via_transporte', 'cd_via': 'via_transporte'})\n",
    ")\n"
   ]
  },
  {
   "cell_type": "code",
   "execution_count": null,
   "id": "0bc40c0d",
   "metadata": {},
   "outputs": [],
   "source": [
    "vias_transporte.to_csv(\n",
    "    \"../../../../datalake/gold/agreg_exportacao/vias_transporte.csv\",\n",
    "    index=False\n",
    ")"
   ]
  }
 ],
 "metadata": {
  "kernelspec": {
   "display_name": ".venv",
   "language": "python",
   "name": "python3"
  },
  "language_info": {
   "codemirror_mode": {
    "name": "ipython",
    "version": 3
   },
   "file_extension": ".py",
   "mimetype": "text/x-python",
   "name": "python",
   "nbconvert_exporter": "python",
   "pygments_lexer": "ipython3",
   "version": "3.12.3"
  }
 },
 "nbformat": 4,
 "nbformat_minor": 5
}
