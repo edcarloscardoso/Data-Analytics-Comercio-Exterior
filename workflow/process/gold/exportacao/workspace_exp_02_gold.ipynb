{
 "cells": [
  {
   "cell_type": "markdown",
   "id": "b9eccaa7",
   "metadata": {},
   "source": [
    "Análise temporal das Exportações por Mês"
   ]
  },
  {
   "cell_type": "code",
   "execution_count": 15,
   "id": "11e6ab8b",
   "metadata": {},
   "outputs": [],
   "source": [
    "import pandas as pd"
   ]
  },
  {
   "cell_type": "code",
   "execution_count": 16,
   "id": "7f31cad1",
   "metadata": {},
   "outputs": [],
   "source": [
    "df = pd.read_csv(\"/home/edcarlos/Data-Analytics-Comercio-Exterior/datalake/gold/exportacao_gold.csv\", low_memory=False)"
   ]
  },
  {
   "cell_type": "code",
   "execution_count": 17,
   "id": "dcbc4a88",
   "metadata": {},
   "outputs": [],
   "source": [
    "df['data_exportacao'] = pd.to_datetime(df['data_exportacao'], format='%Y-%m-%d')\n",
    "df['ano_mes'] = df['data_exportacao'].dt.to_period('M')\n",
    "exportacoes_mensais = df.groupby('ano_mes').agg({\n",
    "    'kg_liquido': 'sum',\n",
    "    'vl_dolarfob': 'sum'\n",
    "}).reset_index()\n",
    "\n",
    "exportacoes_mensais['vl_dolarfob_formatado'] = exportacoes_mensais['vl_dolarfob'].apply(lambda x: f\"${x:,.2f}\")"
   ]
  },
  {
   "cell_type": "code",
   "execution_count": 18,
   "id": "1fe69ee6",
   "metadata": {},
   "outputs": [],
   "source": [
    "exportacoes_mensais.to_csv(\n",
    "    \"/home/edcarlos/Data-Analytics-Comercio-Exterior/datalake/gold/agreg_exportacao/volume_exp_mes.csv\",\n",
    "    index=False\n",
    ")"
   ]
  }
 ],
 "metadata": {
  "kernelspec": {
   "display_name": "Python 3",
   "language": "python",
   "name": "python3"
  },
  "language_info": {
   "codemirror_mode": {
    "name": "ipython",
    "version": 3
   },
   "file_extension": ".py",
   "mimetype": "text/x-python",
   "name": "python",
   "nbconvert_exporter": "python",
   "pygments_lexer": "ipython3",
   "version": "3.11.9"
  }
 },
 "nbformat": 4,
 "nbformat_minor": 5
}
