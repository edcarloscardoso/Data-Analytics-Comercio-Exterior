{
 "cells": [
  {
   "cell_type": "markdown",
   "id": "2bff2f0a",
   "metadata": {},
   "source": [
    "Top 10 produtos baseado no valor dolar FOB"
   ]
  },
  {
   "cell_type": "code",
   "execution_count": 1,
   "id": "b0c1782f",
   "metadata": {},
   "outputs": [],
   "source": [
    "import pandas as pd"
   ]
  },
  {
   "cell_type": "code",
   "execution_count": 2,
   "id": "9b3612c2",
   "metadata": {},
   "outputs": [],
   "source": [
    "df = pd.read_csv(\"/home/edcarlos/Data-Analytics-Comercio-Exterior/datalake/gold/exportacao_gold.csv\", low_memory=False)"
   ]
  },
  {
   "cell_type": "code",
   "execution_count": 3,
   "id": "e2d22ce9",
   "metadata": {},
   "outputs": [],
   "source": [
    "top_produtos = (\n",
    "    df.groupby('cd_ncm', as_index=False)['vl_dolarfob']\n",
    "    .sum()\n",
    "    .sort_values(by='vl_dolarfob', ascending=False)\n",
    "    .head(10)\n",
    ")"
   ]
  },
  {
   "cell_type": "code",
   "execution_count": 4,
   "id": "6952846e",
   "metadata": {},
   "outputs": [],
   "source": [
    "top_produtos.rename(columns={\n",
    "    'cd_ncm': 'descricao_produto',\n",
    "    'vl_dolarfob': 'valor_total_usd'\n",
    "}, inplace=True)"
   ]
  },
  {
   "cell_type": "code",
   "execution_count": 5,
   "id": "6532616e",
   "metadata": {},
   "outputs": [],
   "source": [
    "top_produtos['valor_dolar'] = top_produtos['valor_total_usd'].apply(lambda x: f\"${x:,.2f}\")\n",
    "top_produtos = top_produtos[['descricao_produto', 'valor_dolar']]"
   ]
  },
  {
   "cell_type": "code",
   "execution_count": 6,
   "id": "f7cc3a80",
   "metadata": {},
   "outputs": [],
   "source": [
    "top_produtos.to_csv(\n",
    "    \"/home/edcarlos/Data-Analytics-Comercio-Exterior/datalake/gold/agreg_exportacao/produtos_top_10.csv\",\n",
    "    index=False\n",
    ")"
   ]
  }
 ],
 "metadata": {
  "kernelspec": {
   "display_name": ".venv",
   "language": "python",
   "name": "python3"
  },
  "language_info": {
   "codemirror_mode": {
    "name": "ipython",
    "version": 3
   },
   "file_extension": ".py",
   "mimetype": "text/x-python",
   "name": "python",
   "nbconvert_exporter": "python",
   "pygments_lexer": "ipython3",
   "version": "3.12.3"
  }
 },
 "nbformat": 4,
 "nbformat_minor": 5
}
