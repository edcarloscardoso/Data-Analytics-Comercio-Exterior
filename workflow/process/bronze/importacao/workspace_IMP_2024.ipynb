{
 "cells": [
  {
   "cell_type": "code",
   "execution_count": 1,
   "id": "7ad85968",
   "metadata": {},
   "outputs": [],
   "source": [
    "import pandas as pd"
   ]
  },
  {
   "cell_type": "code",
   "execution_count": null,
   "id": "2e1303c5",
   "metadata": {},
   "outputs": [],
   "source": [
    "caminho_arquivo = '/home/edcarlos/Data-Analytics-Comercio-Exterior/datalake/raw_data/IMP_2024.csv'\n",
    "df = pd.read_csv(caminho_arquivo, sep=';')"
   ]
  },
  {
   "cell_type": "code",
   "execution_count": null,
   "id": "cc2649f5",
   "metadata": {},
   "outputs": [],
   "source": [
    "df = df.rename(columns={ \n",
    "    'CO_ANO': 'dt_ano',\n",
    "    'CO_MES': 'dt_mes',\n",
    "    'CO_NCM': 'cd_ncm',\n",
    "    'CO_UNID': 'cd_unidade',\n",
    "    'CO_PAIS': 'cd_pais',\n",
    "    'SG_UF_NCM': 'sg_ufncm',\n",
    "    'CO_VIA': 'cd_via',\n",
    "    'CO_URF': 'cd_urf',\n",
    "    'QT_ESTAT': 'qt_estatistica',\n",
    "    'KG_LIQUIDO': 'kg_liquido',\n",
    "    'VL_FOB': 'vl_dolarfob',\n",
    "    'VL_FRETE': 'vl_frete',\n",
    "    'VL_SEGURO': 'vl_seguro'\n",
    "      })\n",
    "df.columns = df.columns.str.strip().str.lower().str.replace(' ', '_')"
   ]
  },
  {
   "cell_type": "code",
   "execution_count": null,
   "id": "9c8ea753",
   "metadata": {},
   "outputs": [],
   "source": [
    "df['data_importacao'] = pd.to_datetime(df['dt_ano'].astype(str) + '-' + df['dt_mes'].astype(str))"
   ]
  },
  {
   "cell_type": "code",
   "execution_count": null,
   "id": "fe32137c",
   "metadata": {},
   "outputs": [],
   "source": [
    "df['sg_ufncm'] = df['sg_ufncm'].str.strip().str.lower()"
   ]
  },
  {
   "cell_type": "code",
   "execution_count": null,
   "id": "69b6fe7b",
   "metadata": {},
   "outputs": [],
   "source": [
    "df = df.drop(columns=['dt_ano', 'dt_mes'])"
   ]
  },
  {
   "cell_type": "code",
   "execution_count": null,
   "id": "592c2d5e",
   "metadata": {},
   "outputs": [],
   "source": [
    "caminho = \"/home/edcarlos/Data-Analytics-Comercio-Exterior/datalake/landing/importacao_2024.csv\"   \n",
    "df.to_csv(caminho, index=False)"
   ]
  }
 ],
 "metadata": {
  "kernelspec": {
   "display_name": "Python 3",
   "language": "python",
   "name": "python3"
  },
  "language_info": {
   "codemirror_mode": {
    "name": "ipython",
    "version": 3
   },
   "file_extension": ".py",
   "mimetype": "text/x-python",
   "name": "python",
   "nbconvert_exporter": "python",
   "pygments_lexer": "ipython3",
   "version": "3.11.9"
  }
 },
 "nbformat": 4,
 "nbformat_minor": 5
}
