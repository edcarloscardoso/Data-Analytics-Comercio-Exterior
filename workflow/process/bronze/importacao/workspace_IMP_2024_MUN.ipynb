{
 "cells": [
  {
   "cell_type": "code",
   "execution_count": 1,
   "id": "8a84f355",
   "metadata": {},
   "outputs": [],
   "source": [
    "import pandas as pd"
   ]
  },
  {
   "cell_type": "code",
   "execution_count": 2,
   "id": "d04e6e91",
   "metadata": {},
   "outputs": [],
   "source": [
    "caminho_arquivo = '/home/edcarlos/Data-Analytics-Comercio-Exterior/datalake/raw_data/IMP_2024_MUN.csv'\n",
    "df = pd.read_csv(caminho_arquivo, sep=';')"
   ]
  },
  {
   "cell_type": "code",
   "execution_count": 3,
   "id": "fb5e6ce0",
   "metadata": {},
   "outputs": [],
   "source": [
    "df = df.rename(columns={\n",
    "    'CO_ANO': 'dt_ano',\n",
    "    'CO_MES': 'dt_mes',\n",
    "    'SH4': 'cd_sh4',\n",
    "    'CO_PAIS': 'cd_pais',\n",
    "    'SG_UF_MUN': 'sg_ufmun',\n",
    "    'CO_MUN': 'cd_mun',\n",
    "    'KG_LIQUIDO': 'kg_liquido',\n",
    "    'VL_FOB': 'vl_dolarfob'\n",
    "    })\n",
    "df.columns = df.columns.str.strip().str.lower().str.replace(' ', '_')"
   ]
  },
  {
   "cell_type": "code",
   "execution_count": 4,
   "id": "4bd5d704",
   "metadata": {},
   "outputs": [],
   "source": [
    "df['data_importacao_mun'] = pd.to_datetime(df['dt_ano'].astype(str) + '-' + df['dt_mes'].astype(str))"
   ]
  },
  {
   "cell_type": "code",
   "execution_count": 5,
   "id": "ea22e57a",
   "metadata": {},
   "outputs": [],
   "source": [
    "df['sg_ufmun'] = df['sg_ufmun'].str.strip().str.lower()"
   ]
  },
  {
   "cell_type": "code",
   "execution_count": 6,
   "id": "566b80ff",
   "metadata": {},
   "outputs": [],
   "source": [
    "df = df.drop(columns=['dt_ano', 'dt_mes']) "
   ]
  },
  {
   "cell_type": "code",
   "execution_count": null,
   "id": "603156c7",
   "metadata": {},
   "outputs": [],
   "source": [
    "caminho = \"/home/edcarlos/Data-Analytics-Comercio-Exterior/datalake/landing/importacao_mun_2024.csv\"\n",
    "df.to_csv(caminho, index=False)"
   ]
  }
 ],
 "metadata": {
  "kernelspec": {
   "display_name": "Python 3",
   "language": "python",
   "name": "python3"
  },
  "language_info": {
   "codemirror_mode": {
    "name": "ipython",
    "version": 3
   },
   "file_extension": ".py",
   "mimetype": "text/x-python",
   "name": "python",
   "nbconvert_exporter": "python",
   "pygments_lexer": "ipython3",
   "version": "3.11.9"
  }
 },
 "nbformat": 4,
 "nbformat_minor": 5
}
