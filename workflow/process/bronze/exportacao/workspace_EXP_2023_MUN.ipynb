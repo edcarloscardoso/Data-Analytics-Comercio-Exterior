{
 "cells": [
  {
   "cell_type": "code",
   "execution_count": 1,
   "id": "13e90f62",
   "metadata": {},
   "outputs": [],
   "source": [
    "import pandas as pd"
   ]
  },
  {
   "cell_type": "code",
   "execution_count": 3,
   "id": "d44fc611",
   "metadata": {},
   "outputs": [],
   "source": [
    "caminho_arquivo = '../../../../datalake/raw_data/EXP_2023_MUN.csv' \n",
    "df = pd.read_csv(caminho_arquivo, sep=';')"
   ]
  },
  {
   "cell_type": "code",
   "execution_count": 5,
   "id": "f934462a",
   "metadata": {},
   "outputs": [],
   "source": [
    "df = df.rename(columns={\n",
    "    'CO_ANO': 'dt_ano',\n",
    "    'CO_MES': 'dt_mes',\n",
    "    'SH4': 'cd_sh4',\n",
    "    'CO_PAIS': 'cd_pais',\n",
    "    'SG_UF_MUN': 'sg_ufmun',\n",
    "    'CO_MUN': 'cd_mun',\n",
    "    'KG_LIQUIDO': 'kg_liquido',\n",
    "    'VL_FOB': 'vl_dolarfob'\n",
    "    })\n",
    "df.columns = df.columns.str.strip().str.lower().str.replace(' ', '_')"
   ]
  },
  {
   "cell_type": "code",
   "execution_count": 6,
   "id": "2b36b107",
   "metadata": {},
   "outputs": [],
   "source": [
    "df['data_exportacao_mun'] = pd.to_datetime(df['dt_ano'].astype(str) + '-' + df['dt_mes'].astype(str)) "
   ]
  },
  {
   "cell_type": "code",
   "execution_count": 7,
   "id": "69a11a88",
   "metadata": {},
   "outputs": [],
   "source": [
    "df['sg_ufmun'] = df['sg_ufmun'].str.strip().str.lower()"
   ]
  },
  {
   "cell_type": "code",
   "execution_count": 8,
   "id": "19d5ff13",
   "metadata": {},
   "outputs": [],
   "source": [
    "df = df.drop(columns=['dt_ano', 'dt_mes'])"
   ]
  },
  {
   "cell_type": "code",
   "execution_count": null,
   "id": "c6dfdde9",
   "metadata": {},
   "outputs": [],
   "source": [
    "caminho = \"../../../../datalake/landing/exportacao_mun_2023.csv\"\n",
    "df.to_csv(caminho, index=False)"
   ]
  }
 ],
 "metadata": {
  "kernelspec": {
   "display_name": ".venv",
   "language": "python",
   "name": "python3"
  },
  "language_info": {
   "codemirror_mode": {
    "name": "ipython",
    "version": 3
   },
   "file_extension": ".py",
   "mimetype": "text/x-python",
   "name": "python",
   "nbconvert_exporter": "python",
   "pygments_lexer": "ipython3",
   "version": "3.12.3"
  }
 },
 "nbformat": 4,
 "nbformat_minor": 5
}
