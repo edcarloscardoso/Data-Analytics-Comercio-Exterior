{
 "cells": [
  {
   "cell_type": "code",
   "execution_count": 3,
   "id": "f4d3b1d9",
   "metadata": {},
   "outputs": [],
   "source": [
    "import pandas as pd"
   ]
  },
  {
   "cell_type": "code",
   "execution_count": 4,
   "id": "cc8de8b5",
   "metadata": {},
   "outputs": [],
   "source": [
    "caminho_arquivo = '/home/edcarlos/Data-Analytics-Comercio-Exterior/datalake/raw_data/EXP_2024.csv' \n",
    "df = pd.read_csv(caminho_arquivo, sep=';')"
   ]
  },
  {
   "cell_type": "code",
   "execution_count": 5,
   "id": "b2a91adb",
   "metadata": {},
   "outputs": [],
   "source": [
    "df = df.rename(columns={\n",
    "    'CO_ANO': 'dt_ano',\n",
    "    'CO_MES': 'dt_mes',\n",
    "    'CO_NCM': 'cd_ncm',\n",
    "    'CO_UNID': 'cd_unidade',\n",
    "    'CO_PAIS': 'cd_pais',\n",
    "    'SG_UF_NCM': 'sg_ufncm',\n",
    "    'CO_VIA': 'cd_via',\n",
    "    'CO_URF': 'cd_urf',\n",
    "    'QT_ESTAT': 'qt_estatistica',\n",
    "    'KG_LIQUIDO': 'kg_liquido',\n",
    "    'VL_FOB': 'vl_dolarfob'\n",
    "    })\n",
    "df.columns = df.columns.str.strip().str.lower().str.replace(' ', '_')"
   ]
  },
  {
   "cell_type": "code",
   "execution_count": 6,
   "id": "c9492dc1",
   "metadata": {},
   "outputs": [],
   "source": [
    "df['data_exportacao'] = pd.to_datetime(df['dt_ano'].astype(str) + '-' + df['dt_mes'].astype(str))"
   ]
  },
  {
   "cell_type": "code",
   "execution_count": 7,
   "id": "24e4c95a",
   "metadata": {},
   "outputs": [],
   "source": [
    "df['sg_ufncm'] = df['sg_ufncm'].str.strip().str.lower()"
   ]
  },
  {
   "cell_type": "code",
   "execution_count": 8,
   "id": "ab5b774e",
   "metadata": {},
   "outputs": [],
   "source": [
    "df = df.drop(columns=['dt_ano', 'dt_mes'])"
   ]
  },
  {
   "cell_type": "code",
   "execution_count": 9,
   "id": "434ef311",
   "metadata": {},
   "outputs": [],
   "source": [
    "caminho = \"/home/edcarlos/Data-Analytics-Comercio-Exterior/datalake/landing/exportacao_2024.csv\"\n",
    "df.to_csv(caminho, index=False)"
   ]
  }
 ],
 "metadata": {
  "kernelspec": {
   "display_name": ".venv",
   "language": "python",
   "name": "python3"
  },
  "language_info": {
   "codemirror_mode": {
    "name": "ipython",
    "version": 3
   },
   "file_extension": ".py",
   "mimetype": "text/x-python",
   "name": "python",
   "nbconvert_exporter": "python",
   "pygments_lexer": "ipython3",
   "version": "3.12.3"
  }
 },
 "nbformat": 4,
 "nbformat_minor": 5
}
