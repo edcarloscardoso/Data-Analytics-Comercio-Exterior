{
 "cells": [
  {
   "cell_type": "code",
   "execution_count": 1,
   "metadata": {},
   "outputs": [],
   "source": [
    "import pandas as pd\n",
    "from unidecode import unidecode"
   ]
  },
  {
   "cell_type": "code",
   "execution_count": null,
   "metadata": {},
   "outputs": [],
   "source": [
    "def carregar_e_mesclar_arquivos(url_exp_2024: str, url_pais: str, \n",
    "                                chave_principal: str, chave_referencia: str, \n",
    "                                sep_principal: str = ',', sep_referencia: str = ';', \n",
    "                                encoding: str = 'latin1'):\n",
    "    \n",
    "    df_exp_2024 = pd.read_csv(url_exp_2024, sep=sep_principal, encoding=encoding)\n",
    "    df_pais = pd.read_csv(url_pais, sep=sep_referencia, encoding=encoding)\n",
    "\n",
    "    df_exp_2024[chave_principal] = df_exp_2024[chave_principal].astype(str)\n",
    "    df_pais[chave_referencia] = df_pais[chave_referencia].astype(str)\n",
    "\n",
    "    df_resultado = df_exp_2024.merge(df_pais, left_on=chave_principal, right_on=chave_referencia, how='left')\n",
    "\n",
    "    return df_resultado\n",
    "\n",
    "df_1 = carregar_e_mesclar_arquivos(\n",
    "    url_exp_2024='../../../../datalake/landing/exportacao_2024.csv',\n",
    "    url_pais='../../../../datalake/raw_data/PAIS.csv',\n",
    "    chave_principal='cd_pais',\n",
    "    chave_referencia='CO_PAIS'\n",
    ")"
   ]
  },
  {
   "cell_type": "code",
   "execution_count": 3,
   "metadata": {},
   "outputs": [],
   "source": [
    "df_1 = df_1.drop(columns=['cd_pais', 'CO_PAIS', 'CO_PAIS_ISON3', \n",
    "        'CO_PAIS_ISOA3', 'NO_PAIS_ING', 'NO_PAIS_ESP'])"
   ]
  },
  {
   "cell_type": "code",
   "execution_count": null,
   "metadata": {},
   "outputs": [],
   "source": [
    "url_urf = '../../../../datalake/raw_data/URF.csv'\n",
    "df_urf = pd.read_csv(url_urf, sep=';',  encoding='latin1')"
   ]
  },
  {
   "cell_type": "code",
   "execution_count": 5,
   "metadata": {},
   "outputs": [],
   "source": [
    "def mesclar_dataframes(df_base: pd.DataFrame, df_referencia: pd.DataFrame, \n",
    "                       chave_base: str, chave_referencia: str) -> pd.DataFrame:\n",
    "\n",
    "    df_base[chave_base] = df_base[chave_base].astype(str)\n",
    "    df_referencia[chave_referencia] = df_referencia[chave_referencia].astype(str)\n",
    "\n",
    "    df_resultante = df_base.merge(df_referencia, left_on=chave_base, right_on=chave_referencia, how='left')\n",
    "    \n",
    "    return df_resultante\n",
    "\n",
    "df_2 = mesclar_dataframes(df_base=df_1, df_referencia=df_urf, chave_base='cd_urf', chave_referencia='CO_URF')\n"
   ]
  },
  {
   "cell_type": "code",
   "execution_count": 6,
   "metadata": {},
   "outputs": [],
   "source": [
    "df_2['urf_codigo'] = df_2['NO_URF'].str.extract(r'^(\\d+)\\s*-\\s*')\n",
    "\n",
    "df_2['urf_info'] = df_2['NO_URF'].str.replace(r'^\\d+\\s*-\\s*', '', regex=True)\n",
    "\n",
    "def separar_info(valor):\n",
    "    partes = valor.split(' - ')\n",
    "    if len(partes) == 2:\n",
    "        tipo, nome = partes\n",
    "    else:\n",
    "        tipo = None\n",
    "        nome = valor\n",
    "    return pd.Series([tipo, nome])\n",
    "\n",
    "df_2[['urf_tipo', 'urf_nome']] = df_2['urf_info'].apply(separar_info)\n",
    "\n",
    "df_2.drop(columns=['NO_URF', 'urf_info'], inplace=True)"
   ]
  },
  {
   "cell_type": "code",
   "execution_count": 7,
   "metadata": {},
   "outputs": [],
   "source": [
    "df_2 = df_2.drop(['cd_urf', 'CO_URF', 'urf_codigo', 'urf_tipo'], axis=1)"
   ]
  },
  {
   "cell_type": "code",
   "execution_count": null,
   "metadata": {},
   "outputs": [],
   "source": [
    "url_ncm = '../../../../datalake/raw_data/NCM.csv'\n",
    "df_ncm = pd.read_csv(url_ncm, sep=';',  encoding='latin1')"
   ]
  },
  {
   "cell_type": "code",
   "execution_count": 9,
   "metadata": {},
   "outputs": [],
   "source": [
    "def mesclar_dataframes(df_base: pd.DataFrame, df_referencia: pd.DataFrame, \n",
    "                       chave_base: str, chave_referencia: str) -> pd.DataFrame:\n",
    "    \n",
    "    df_base[chave_base] = df_base[chave_base].astype(str)\n",
    "    df_referencia[chave_referencia] = df_referencia[chave_referencia].astype(str)\n",
    "\n",
    "    df_resultante = df_base.merge(df_referencia, left_on=chave_base, right_on=chave_referencia, how='left')\n",
    "    \n",
    "    return df_resultante\n",
    "\n",
    "df_3 = mesclar_dataframes(df_base=df_2, df_referencia=df_ncm, chave_base='cd_ncm', chave_referencia='CO_NCM')"
   ]
  },
  {
   "cell_type": "code",
   "execution_count": 10,
   "metadata": {},
   "outputs": [],
   "source": [
    "df_3 = df_3.drop(columns=['cd_ncm', \n",
    "       'CO_NCM', 'CO_UNID', 'CO_SH6', 'CO_PPE', 'CO_PPI', 'CO_FAT_AGREG',\n",
    "       'CO_CUCI_ITEM', 'CO_CGCE_N3', 'CO_SIIT', 'CO_ISIC_CLASSE',\n",
    "       'CO_EXP_SUBSET', 'NO_NCM_ESP', 'NO_NCM_ING'])"
   ]
  },
  {
   "cell_type": "code",
   "execution_count": null,
   "metadata": {},
   "outputs": [],
   "source": [
    "url_ncm_unidade = '../../../../datalake/raw_data/NCM_UNIDADE.csv'\n",
    "df_ncm_unidade = pd.read_csv(url_ncm_unidade, sep=';',  encoding='latin1') \n"
   ]
  },
  {
   "cell_type": "code",
   "execution_count": 12,
   "metadata": {},
   "outputs": [],
   "source": [
    "def mesclar_dataframes(df_base: pd.DataFrame, df_referencia: pd.DataFrame, \n",
    "                       chave_base: str, chave_referencia: str) -> pd.DataFrame:\n",
    "    \n",
    "    df_base[chave_base] = df_base[chave_base].astype(str)\n",
    "    df_referencia[chave_referencia] = df_referencia[chave_referencia].astype(str)\n",
    "\n",
    "    df_resultante = df_base.merge(df_referencia, left_on=chave_base, right_on=chave_referencia, how='left')\n",
    "    \n",
    "    return df_resultante\n",
    "\n",
    "df_4 = mesclar_dataframes(df_base=df_3, df_referencia=df_ncm_unidade, chave_base='cd_unidade', chave_referencia='CO_UNID')"
   ]
  },
  {
   "cell_type": "code",
   "execution_count": 13,
   "metadata": {},
   "outputs": [],
   "source": [
    "df_4 = df_4.drop(columns=['cd_unidade',\n",
    "       'CO_UNID', 'SG_UNID'])"
   ]
  },
  {
   "cell_type": "code",
   "execution_count": null,
   "metadata": {},
   "outputs": [],
   "source": [
    "url_via = '../../../../datalake/raw_data/VIA.csv' \n",
    "df_via = pd.read_csv(url_via, sep=';',  encoding='latin1')  "
   ]
  },
  {
   "cell_type": "code",
   "execution_count": 15,
   "metadata": {},
   "outputs": [],
   "source": [
    "def mesclar_dataframes(df_base: pd.DataFrame, df_referencia: pd.DataFrame, \n",
    "                       chave_base: str, chave_referencia: str) -> pd.DataFrame:\n",
    "\n",
    "    df_base[chave_base] = df_base[chave_base].astype(str)\n",
    "    df_referencia[chave_referencia] = df_referencia[chave_referencia].astype(str)\n",
    "\n",
    "    df_resultante = df_base.merge(df_referencia, left_on=chave_base, right_on=chave_referencia, how='left')\n",
    "    \n",
    "    return df_resultante\n",
    "\n",
    "df_5 = mesclar_dataframes(df_base=df_4, df_referencia=df_via, chave_base='cd_via', chave_referencia='CO_VIA')"
   ]
  },
  {
   "cell_type": "code",
   "execution_count": 16,
   "metadata": {},
   "outputs": [],
   "source": [
    "df_5 = df_5.drop(columns=['cd_via', 'CO_VIA'])"
   ]
  },
  {
   "cell_type": "code",
   "execution_count": 17,
   "metadata": {},
   "outputs": [],
   "source": [
    "df_5 = df_5.rename(columns={  \n",
    "  'sg_ufncm': 'sg_uf',\n",
    "  'NO_PAIS': 'cd_pais', \n",
    "  'urf_nome': 'cd_urf', \n",
    "  'NO_NCM_POR': 'cd_ncm',\n",
    "  'NO_UNID': 'cd_unidade',\n",
    "  'NO_VIA': 'cd_via'\n",
    "    \n",
    "    })\n",
    "df_5.columns = df_5.columns.str.strip().str.lower().str.replace(' ', '_')"
   ]
  },
  {
   "cell_type": "code",
   "execution_count": 18,
   "metadata": {},
   "outputs": [
    {
     "data": {
      "text/html": [
       "<div>\n",
       "<style scoped>\n",
       "    .dataframe tbody tr th:only-of-type {\n",
       "        vertical-align: middle;\n",
       "    }\n",
       "\n",
       "    .dataframe tbody tr th {\n",
       "        vertical-align: top;\n",
       "    }\n",
       "\n",
       "    .dataframe thead th {\n",
       "        text-align: right;\n",
       "    }\n",
       "</style>\n",
       "<table border=\"1\" class=\"dataframe\">\n",
       "  <thead>\n",
       "    <tr style=\"text-align: right;\">\n",
       "      <th></th>\n",
       "      <th>sg_uf</th>\n",
       "      <th>qt_estatistica</th>\n",
       "      <th>kg_liquido</th>\n",
       "      <th>vl_dolarfob</th>\n",
       "      <th>data_exportacao</th>\n",
       "      <th>cd_pais</th>\n",
       "      <th>cd_urf</th>\n",
       "      <th>cd_ncm</th>\n",
       "      <th>cd_unidade</th>\n",
       "      <th>cd_via</th>\n",
       "    </tr>\n",
       "  </thead>\n",
       "  <tbody>\n",
       "    <tr>\n",
       "      <th>0</th>\n",
       "      <td>sp</td>\n",
       "      <td>8</td>\n",
       "      <td>425</td>\n",
       "      <td>20423</td>\n",
       "      <td>2024-04-01</td>\n",
       "      <td>Espanha</td>\n",
       "      <td>AEROPORTO INTERNACIONAL DE SAO PAULO/GUARULHOS</td>\n",
       "      <td>Outros móveis de madeira</td>\n",
       "      <td>NUMERO (UNIDADE)</td>\n",
       "      <td>AEREA</td>\n",
       "    </tr>\n",
       "    <tr>\n",
       "      <th>1</th>\n",
       "      <td>sp</td>\n",
       "      <td>418615</td>\n",
       "      <td>60355</td>\n",
       "      <td>470512</td>\n",
       "      <td>2024-11-01</td>\n",
       "      <td>México</td>\n",
       "      <td>PORTO DE SANTOS</td>\n",
       "      <td>Amortecedores de suspensão para tratores e veí...</td>\n",
       "      <td>NUMERO (UNIDADE)</td>\n",
       "      <td>MARITIMA</td>\n",
       "    </tr>\n",
       "    <tr>\n",
       "      <th>2</th>\n",
       "      <td>sp</td>\n",
       "      <td>94080</td>\n",
       "      <td>94080</td>\n",
       "      <td>237562</td>\n",
       "      <td>2024-03-01</td>\n",
       "      <td>Comores</td>\n",
       "      <td>PORTO DE SANTOS</td>\n",
       "      <td>Pedaços e miudezas, comestíveis de galos/galin...</td>\n",
       "      <td>QUILOGRAMA LIQUIDO</td>\n",
       "      <td>MARITIMA</td>\n",
       "    </tr>\n",
       "    <tr>\n",
       "      <th>3</th>\n",
       "      <td>mg</td>\n",
       "      <td>10</td>\n",
       "      <td>12</td>\n",
       "      <td>1704</td>\n",
       "      <td>2024-04-01</td>\n",
       "      <td>Chile</td>\n",
       "      <td>PORTO DE SANTOS</td>\n",
       "      <td>Outros aparelhos e instrumentos sem dispositiv...</td>\n",
       "      <td>NUMERO (UNIDADE)</td>\n",
       "      <td>MARITIMA</td>\n",
       "    </tr>\n",
       "    <tr>\n",
       "      <th>4</th>\n",
       "      <td>sc</td>\n",
       "      <td>26</td>\n",
       "      <td>26</td>\n",
       "      <td>950</td>\n",
       "      <td>2024-08-01</td>\n",
       "      <td>Chile</td>\n",
       "      <td>AEROPORTO INTERNACIONAL DE VIRACOPOS</td>\n",
       "      <td>Protetores, bandas de rodagem, etc, para pneus...</td>\n",
       "      <td>QUILOGRAMA LIQUIDO</td>\n",
       "      <td>AEREA</td>\n",
       "    </tr>\n",
       "  </tbody>\n",
       "</table>\n",
       "</div>"
      ],
      "text/plain": [
       "  sg_uf  qt_estatistica  kg_liquido  vl_dolarfob data_exportacao  cd_pais  \\\n",
       "0    sp               8         425        20423      2024-04-01  Espanha   \n",
       "1    sp          418615       60355       470512      2024-11-01   México   \n",
       "2    sp           94080       94080       237562      2024-03-01  Comores   \n",
       "3    mg              10          12         1704      2024-04-01    Chile   \n",
       "4    sc              26          26          950      2024-08-01    Chile   \n",
       "\n",
       "                                           cd_urf  \\\n",
       "0  AEROPORTO INTERNACIONAL DE SAO PAULO/GUARULHOS   \n",
       "1                                 PORTO DE SANTOS   \n",
       "2                                 PORTO DE SANTOS   \n",
       "3                                 PORTO DE SANTOS   \n",
       "4            AEROPORTO INTERNACIONAL DE VIRACOPOS   \n",
       "\n",
       "                                              cd_ncm          cd_unidade  \\\n",
       "0                           Outros móveis de madeira    NUMERO (UNIDADE)   \n",
       "1  Amortecedores de suspensão para tratores e veí...    NUMERO (UNIDADE)   \n",
       "2  Pedaços e miudezas, comestíveis de galos/galin...  QUILOGRAMA LIQUIDO   \n",
       "3  Outros aparelhos e instrumentos sem dispositiv...    NUMERO (UNIDADE)   \n",
       "4  Protetores, bandas de rodagem, etc, para pneus...  QUILOGRAMA LIQUIDO   \n",
       "\n",
       "     cd_via  \n",
       "0     AEREA  \n",
       "1  MARITIMA  \n",
       "2  MARITIMA  \n",
       "3  MARITIMA  \n",
       "4     AEREA  "
      ]
     },
     "execution_count": 18,
     "metadata": {},
     "output_type": "execute_result"
    }
   ],
   "source": [
    "df_5.head()"
   ]
  },
  {
   "cell_type": "code",
   "execution_count": 18,
   "metadata": {},
   "outputs": [],
   "source": [
    "def padronizar_colunas(df, colunas):\n",
    "    df[colunas] = df[colunas].apply(lambda x: x.str.strip().str.lower())\n",
    "    return df\n",
    "\n",
    "df_5 = padronizar_colunas(df_5, ['cd_pais', 'cd_urf', 'cd_ncm', 'cd_unidade', 'cd_via'])"
   ]
  },
  {
   "cell_type": "code",
   "execution_count": 19,
   "metadata": {},
   "outputs": [],
   "source": [
    "for col in df_5.select_dtypes(include='object').columns:\n",
    "    df_5[col] = df_5[col].apply(lambda x: unidecode(x) if isinstance(x, str) else x)"
   ]
  },
  {
   "cell_type": "code",
   "execution_count": null,
   "metadata": {},
   "outputs": [],
   "source": [
    "caminho = \"../../../../datalake/silver/exportacao_2024_m.csv\" #salvando o arquivo\n",
    "df_5.to_csv(caminho, index=False)"
   ]
  }
 ],
 "metadata": {
  "kernelspec": {
   "display_name": ".venv",
   "language": "python",
   "name": "python3"
  },
  "language_info": {
   "codemirror_mode": {
    "name": "ipython",
    "version": 3
   },
   "file_extension": ".py",
   "mimetype": "text/x-python",
   "name": "python",
   "nbconvert_exporter": "python",
   "pygments_lexer": "ipython3",
   "version": "3.12.3"
  }
 },
 "nbformat": 4,
 "nbformat_minor": 2
}
