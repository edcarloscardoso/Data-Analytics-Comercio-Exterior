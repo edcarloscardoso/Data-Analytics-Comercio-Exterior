{
 "cells": [
  {
   "cell_type": "code",
   "execution_count": 1,
   "metadata": {},
   "outputs": [],
   "source": [
    "import pandas as pd"
   ]
  },
  {
   "cell_type": "code",
   "execution_count": 6,
   "metadata": {},
   "outputs": [],
   "source": [
    "def carregar_e_mesclar_arquivos(url_exp_mun_2023: str, url_ncm_sh: str, \n",
    "                                chave_principal: str, chave_referencia: str, \n",
    "                                sep_principal: str = ',', sep_referencia: str = ';', \n",
    "                                encoding: str = 'latin1'):\n",
    "    \n",
    "    df_exp_mun_2023 = pd.read_csv(url_exp_mun_2023, sep=sep_principal, encoding=encoding)\n",
    "    df_ncm_sh = pd.read_csv(url_ncm_sh, sep=sep_referencia, encoding=encoding)\n",
    "\n",
    "    df_exp_mun_2023[chave_principal] = df_exp_mun_2023[chave_principal].astype(str)\n",
    "    df_ncm_sh[chave_referencia] = df_ncm_sh[chave_referencia].astype(str)\n",
    "\n",
    "    df_resultado = df_exp_mun_2023.merge(df_ncm_sh, left_on=chave_principal, right_on=chave_referencia, how='left')\n",
    "\n",
    "    return df_resultado\n",
    "\n",
    "df_1 = carregar_e_mesclar_arquivos(\n",
    "    url_exp_mun_2023='/home/edcarlos/Data-Analytics-Comercio-Exterior/datalake/landing/exportacao_mun_2023.csv',\n",
    "    url_ncm_sh='/home/edcarlos/Data-Analytics-Comercio-Exterior/datalake/raw_data/NCM_SH.csv',\n",
    "    chave_principal='cd_sh4',\n",
    "    chave_referencia='CO_SH4'\n",
    ")"
   ]
  },
  {
   "cell_type": "code",
   "execution_count": 7,
   "metadata": {},
   "outputs": [],
   "source": [
    "df_1 = df_1.drop(columns=['cd_sh4', 'CO_SH6', 'NO_SH6_POR', 'NO_SH6_ESP',\n",
    "       'NO_SH6_ING', 'CO_SH4', 'NO_SH4_ESP', 'NO_SH4_ING',\n",
    "       'CO_SH2', 'NO_SH2_POR', 'NO_SH2_ESP', 'NO_SH2_ING', 'CO_NCM_SECROM',\n",
    "       'NO_SEC_POR', 'NO_SEC_ESP', 'NO_SEC_ING'])"
   ]
  },
  {
   "cell_type": "code",
   "execution_count": 8,
   "metadata": {},
   "outputs": [],
   "source": [
    "url_pais = '/home/edcarlos/Data-Analytics-Comercio-Exterior/datalake/raw_data/PAIS.csv'\n",
    "df_pais = pd.read_csv(url_pais, sep=';',  encoding='latin1')"
   ]
  },
  {
   "cell_type": "code",
   "execution_count": 9,
   "metadata": {},
   "outputs": [],
   "source": [
    "def mesclar_dataframes(df_base: pd.DataFrame, df_referencia: pd.DataFrame, \n",
    "                       chave_base: str, chave_referencia: str) -> pd.DataFrame:\n",
    "   \n",
    "    df_base[chave_base] = df_base[chave_base].astype(str)\n",
    "    df_referencia[chave_referencia] = df_referencia[chave_referencia].astype(str)\n",
    "\n",
    "    df_resultante = df_base.merge(df_referencia, left_on=chave_base, right_on=chave_referencia, how='left')\n",
    "    \n",
    "    return df_resultante\n",
    "\n",
    "df_2 = mesclar_dataframes(df_base=df_1, df_referencia=df_pais, chave_base='cd_pais', chave_referencia='CO_PAIS')\n"
   ]
  },
  {
   "cell_type": "code",
   "execution_count": 10,
   "metadata": {},
   "outputs": [],
   "source": [
    "df_2 = df_2.drop(['cd_pais', 'CO_PAIS', 'CO_PAIS_ISON3',\n",
    "       'CO_PAIS_ISOA3', 'NO_PAIS_ING', 'NO_PAIS_ESP'], axis=1)"
   ]
  },
  {
   "cell_type": "code",
   "execution_count": 12,
   "metadata": {},
   "outputs": [],
   "source": [
    "url_uf_mun = '/home/edcarlos/Data-Analytics-Comercio-Exterior/datalake/raw_data/UF_MUN.csv' \n",
    "df_uf_mun = pd.read_csv(url_uf_mun, sep=';',  encoding='latin1')"
   ]
  },
  {
   "cell_type": "code",
   "execution_count": 13,
   "metadata": {},
   "outputs": [],
   "source": [
    "def mesclar_dataframes(df_base: pd.DataFrame, df_referencia: pd.DataFrame, \n",
    "                       chave_base: str, chave_referencia: str) -> pd.DataFrame:\n",
    "\n",
    "    df_base[chave_base] = df_base[chave_base].astype(str)\n",
    "    df_referencia[chave_referencia] = df_referencia[chave_referencia].astype(str)\n",
    "\n",
    "    df_resultante = df_base.merge(df_referencia, left_on=chave_base, right_on=chave_referencia, how='left')\n",
    "    \n",
    "    return df_resultante\n",
    "\n",
    "df_3 = mesclar_dataframes(df_base=df_2, df_referencia=df_uf_mun, chave_base='cd_mun', chave_referencia='CO_MUN_GEO')"
   ]
  },
  {
   "cell_type": "code",
   "execution_count": 14,
   "metadata": {},
   "outputs": [],
   "source": [
    "df_3 = df_3.drop(['cd_mun', 'CO_MUN_GEO', 'NO_MUN', 'SG_UF'], axis=1)"
   ]
  },
  {
   "cell_type": "code",
   "execution_count": 15,
   "metadata": {},
   "outputs": [],
   "source": [
    "df_3 = df_3.rename(columns={  \n",
    "    'NO_SH4_POR': 'cd_sh4',\n",
    "    'NO_PAIS': 'cd_pais',\n",
    "    'NO_MUN_MIN': 'cd_mun'\n",
    "    })\n",
    "df_3.columns = df_3.columns.str.strip().str.lower().str.replace(' ', '_')"
   ]
  },
  {
   "cell_type": "code",
   "execution_count": 16,
   "metadata": {},
   "outputs": [],
   "source": [
    "def padronizar_colunas(df, colunas):\n",
    "    df[colunas] = df[colunas].apply(lambda x: x.str.strip().str.lower())\n",
    "    return df\n",
    "\n",
    "df_4 = padronizar_colunas(df_3, ['cd_sh4', 'cd_pais', 'cd_mun'])"
   ]
  },
  {
   "cell_type": "code",
   "execution_count": null,
   "metadata": {},
   "outputs": [
    {
     "name": "stdout",
     "output_type": "stream",
     "text": [
      "Arquivo salvo com sucesso!\n"
     ]
    }
   ],
   "source": [
    "caminho = \"/home/edcarlos/Data-Analytics-Comercio-Exterior/datalake/silver/exportacao_mun_2023_m.csv\"\n",
    "df_4.to_csv(caminho, index=False)"
   ]
  }
 ],
 "metadata": {
  "kernelspec": {
   "display_name": "Python 3",
   "language": "python",
   "name": "python3"
  },
  "language_info": {
   "codemirror_mode": {
    "name": "ipython",
    "version": 3
   },
   "file_extension": ".py",
   "mimetype": "text/x-python",
   "name": "python",
   "nbconvert_exporter": "python",
   "pygments_lexer": "ipython3",
   "version": "3.11.9"
  }
 },
 "nbformat": 4,
 "nbformat_minor": 2
}
