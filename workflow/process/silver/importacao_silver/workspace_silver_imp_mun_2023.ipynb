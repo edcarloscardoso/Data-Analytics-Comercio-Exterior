{
 "cells": [
  {
   "cell_type": "code",
   "execution_count": 1,
   "metadata": {},
   "outputs": [],
   "source": [
    "import pandas as pd\n",
    "from unidecode import unidecode"
   ]
  },
  {
   "cell_type": "code",
   "execution_count": 2,
   "metadata": {},
   "outputs": [],
   "source": [
    "def carregar_e_mesclar_arquivos(url_imp_mun_2023: str, url_ncm_sh: str, \n",
    "                                chave_principal: str, chave_referencia: str, \n",
    "                                sep_principal: str = ',', sep_referencia: str = ';', \n",
    "                                encoding: str = 'latin1'):\n",
    "\n",
    "    df_imp_mun_2023 = pd.read_csv(url_imp_mun_2023, sep=sep_principal, encoding=encoding)\n",
    "    df_ncm_sh = pd.read_csv(url_ncm_sh, sep=sep_referencia, encoding=encoding)\n",
    "\n",
    "    df_imp_mun_2023[chave_principal] = df_imp_mun_2023[chave_principal].astype(str)\n",
    "    df_ncm_sh[chave_referencia] = df_ncm_sh[chave_referencia].astype(str)\n",
    "\n",
    "    df_resultado = df_imp_mun_2023.merge(df_ncm_sh, left_on=chave_principal, right_on=chave_referencia, how='left')\n",
    "\n",
    "    return df_resultado\n",
    "\n",
    "df_1 = carregar_e_mesclar_arquivos(\n",
    "    url_imp_mun_2023='/home/edcarlos/Data-Analytics-Comercio-Exterior/datalake/landing/importacao_mun_2023.csv',\n",
    "    url_ncm_sh='/home/edcarlos/Data-Analytics-Comercio-Exterior/datalake/raw_data/NCM_SH.csv',\n",
    "    chave_principal='cd_sh4',\n",
    "    chave_referencia='CO_SH4'\n",
    ")\n"
   ]
  },
  {
   "cell_type": "code",
   "execution_count": 3,
   "metadata": {},
   "outputs": [],
   "source": [
    "df_1 = df_1.drop(columns=['cd_sh4', 'CO_SH6', 'NO_SH6_POR', 'NO_SH6_ESP',\n",
    "       'NO_SH6_ING', 'CO_SH4', 'NO_SH4_ESP', 'NO_SH4_ING',\n",
    "       'CO_SH2', 'NO_SH2_POR', 'NO_SH2_ESP', 'NO_SH2_ING', 'CO_NCM_SECROM',\n",
    "       'NO_SEC_POR', 'NO_SEC_ESP', 'NO_SEC_ING'])"
   ]
  },
  {
   "cell_type": "code",
   "execution_count": 4,
   "metadata": {},
   "outputs": [],
   "source": [
    "def carregar_e_mesclar_2(df_1: pd.DataFrame, caminho_referencia: str, \n",
    "                       chave_base: str, chave_referencia: str, \n",
    "                       sep_referencia: str = ';', encoding: str = 'latin1') -> pd.DataFrame:\n",
    "\n",
    "    df_referencia = pd.read_csv(caminho_referencia, sep=sep_referencia, encoding=encoding)\n",
    "\n",
    "    df_1[chave_base] = df_1[chave_base].astype(str)\n",
    "    df_referencia[chave_referencia] = df_referencia[chave_referencia].astype(str)\n",
    "\n",
    "    df_resto = df_1.merge(df_referencia, left_on=chave_base, right_on=chave_referencia, how='left')\n",
    "    \n",
    "    return df_resto\n",
    "\n",
    "arquivo_pais = '/home/edcarlos/Data-Analytics-Comercio-Exterior/datalake/raw_data/PAIS.csv'\n",
    "\n",
    "df_1 = carregar_e_mesclar_2(df_1, arquivo_pais, chave_base='cd_pais', chave_referencia='CO_PAIS')\n"
   ]
  },
  {
   "cell_type": "code",
   "execution_count": 5,
   "metadata": {},
   "outputs": [],
   "source": [
    "df_2 = df_1.drop(columns=['cd_pais', 'CO_PAIS', 'CO_PAIS_ISON3',\n",
    "       'CO_PAIS_ISOA3', 'NO_PAIS_ING', 'NO_PAIS_ESP'])"
   ]
  },
  {
   "cell_type": "code",
   "execution_count": 6,
   "metadata": {},
   "outputs": [],
   "source": [
    "caminho_uf_mun = '/home/edcarlos/Data-Analytics-Comercio-Exterior/datalake/raw_data/UF_MUN.csv' \n",
    "df_uf_mun = pd.read_csv(caminho_uf_mun, sep=';',  encoding='latin1') "
   ]
  },
  {
   "cell_type": "code",
   "execution_count": 7,
   "metadata": {},
   "outputs": [],
   "source": [
    "def mesclar_dataframes(df_base: pd.DataFrame, df_referencia: pd.DataFrame, \n",
    "                       chave_base: str, chave_referencia: str) -> pd.DataFrame:\n",
    "  \n",
    "    df_base[chave_base] = df_base[chave_base].astype(str)\n",
    "    df_referencia[chave_referencia] = df_referencia[chave_referencia].astype(str)\n",
    "\n",
    "    df_resultante = df_base.merge(df_referencia, left_on=chave_base, right_on=chave_referencia, how='left')\n",
    "    \n",
    "    return df_resultante\n",
    "\n",
    "df_2 = mesclar_dataframes(df_base=df_2, df_referencia=df_uf_mun, chave_base='cd_mun', chave_referencia='CO_MUN_GEO')"
   ]
  },
  {
   "cell_type": "code",
   "execution_count": 8,
   "metadata": {},
   "outputs": [],
   "source": [
    "df_2 = df_2.drop(columns=['cd_mun', 'CO_MUN_GEO', 'NO_MUN', 'SG_UF'])"
   ]
  },
  {
   "cell_type": "code",
   "execution_count": 9,
   "metadata": {},
   "outputs": [],
   "source": [
    "df_3 = df_2.rename(columns={  \n",
    "    'sg_ufmun': 'sg_uf',\n",
    "    'data_importacao_mun': 'data_importacao',\n",
    "    'NO_SH4_POR': 'cd_ncm', \n",
    "    'NO_PAIS': 'cd_pais', \n",
    "    'NO_MUN_MIN': 'cd_mun'\n",
    "    })\n",
    "df_3.columns = df_3.columns.str.strip().str.lower().str.replace(' ', '_')"
   ]
  },
  {
   "cell_type": "code",
   "execution_count": 10,
   "metadata": {},
   "outputs": [],
   "source": [
    "df_3['cd_pais'] = df_3['cd_pais'].str.lower()\n",
    "df_3['cd_mun'] = df_3['cd_mun'].str.lower()"
   ]
  },
  {
   "cell_type": "code",
   "execution_count": 11,
   "metadata": {},
   "outputs": [],
   "source": [
    "for col in df_3.select_dtypes(include='object').columns:\n",
    "    df_3[col] = df_3[col].apply(lambda x: unidecode(x) if isinstance(x, str) else x)"
   ]
  },
  {
   "cell_type": "code",
   "execution_count": 12,
   "metadata": {},
   "outputs": [],
   "source": [
    "caminho = \"/home/edcarlos/Data-Analytics-Comercio-Exterior/datalake/silver/importacao_mun_2023_m.csv\"\n",
    "df_3.to_csv(caminho, index=False)"
   ]
  }
 ],
 "metadata": {
  "kernelspec": {
   "display_name": "Python 3",
   "language": "python",
   "name": "python3"
  },
  "language_info": {
   "codemirror_mode": {
    "name": "ipython",
    "version": 3
   },
   "file_extension": ".py",
   "mimetype": "text/x-python",
   "name": "python",
   "nbconvert_exporter": "python",
   "pygments_lexer": "ipython3",
   "version": "3.11.9"
  }
 },
 "nbformat": 4,
 "nbformat_minor": 2
}
