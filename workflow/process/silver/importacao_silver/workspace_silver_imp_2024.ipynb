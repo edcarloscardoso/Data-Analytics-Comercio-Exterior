{
 "cells": [
  {
   "cell_type": "code",
   "execution_count": 43,
   "metadata": {},
   "outputs": [],
   "source": [
    "import pandas as pd"
   ]
  },
  {
   "cell_type": "code",
   "execution_count": 44,
   "metadata": {},
   "outputs": [],
   "source": [
    "def carregar_e_mesclar_arquivos(url_imp_2024: str, url_ncm: str, \n",
    "                                chave_principal: str, chave_referencia: str, \n",
    "                                sep_principal: str = ',', sep_referencia: str = ';', \n",
    "                                encoding: str = 'latin1'):\n",
    "\n",
    "    df_imp_2024 = pd.read_csv(url_imp_2024, sep=sep_principal, encoding=encoding)\n",
    "    df_ncm = pd.read_csv(url_ncm, sep=sep_referencia, encoding=encoding)\n",
    "\n",
    "    df_imp_2024[chave_principal] = df_imp_2024[chave_principal].astype(str)\n",
    "    df_ncm[chave_referencia] = df_ncm[chave_referencia].astype(str)\n",
    "\n",
    "    df_resultado = df_imp_2024.merge(df_ncm, left_on=chave_principal, right_on=chave_referencia, how='left')\n",
    "\n",
    "    return df_resultado\n",
    "\n",
    "df_1 = carregar_e_mesclar_arquivos(\n",
    "    url_imp_2024='/home/edcarlos/Data-Analytics-Comercio-Exterior/datalake/landing/importacao_2024.csv',\n",
    "    url_ncm='/home/edcarlos/Data-Analytics-Comercio-Exterior/datalake/raw_data/NCM.csv',\n",
    "    chave_principal='cd_ncm',\n",
    "    chave_referencia='CO_NCM')"
   ]
  },
  {
   "cell_type": "code",
   "execution_count": 45,
   "metadata": {},
   "outputs": [],
   "source": [
    "df_1 = df_1.drop(columns=['cd_ncm', 'CO_NCM', 'CO_UNID', 'CO_SH6', 'CO_PPE', 'CO_PPI', 'CO_FAT_AGREG', 'CO_CUCI_ITEM', 'CO_CGCE_N3', 'CO_SIIT', 'CO_ISIC_CLASSE', 'CO_EXP_SUBSET', 'NO_NCM_ESP', 'NO_NCM_ING'])"
   ]
  },
  {
   "cell_type": "code",
   "execution_count": 46,
   "metadata": {},
   "outputs": [],
   "source": [
    "url_urf = '/home/edcarlos/Data-Analytics-Comercio-Exterior/datalake/raw_data/URF.csv'\n",
    "df_urf = pd.read_csv(url_urf, sep=';',  encoding='latin1')"
   ]
  },
  {
   "cell_type": "code",
   "execution_count": 47,
   "metadata": {},
   "outputs": [],
   "source": [
    "def mesclar_dataframes(df_base: pd.DataFrame, df_referencia: pd.DataFrame, \n",
    "                       chave_base: str, chave_referencia: str) -> pd.DataFrame:\n",
    "    \n",
    "    df_base[chave_base] = df_base[chave_base].astype(str)\n",
    "    df_referencia[chave_referencia] = df_referencia[chave_referencia].astype(str)\n",
    "\n",
    "    df_resultante = df_base.merge(df_referencia, left_on=chave_base, right_on=chave_referencia, how='left')\n",
    "    \n",
    "    return df_resultante\n",
    "\n",
    "df_1 = mesclar_dataframes(df_base=df_1, df_referencia=df_urf, chave_base='cd_urf', chave_referencia='CO_URF')"
   ]
  },
  {
   "cell_type": "code",
   "execution_count": 48,
   "metadata": {},
   "outputs": [],
   "source": [
    "df_1['urf_codigo'] = df_1['NO_URF'].str.extract(r'^(\\d+)\\s*-\\s*')\n",
    "\n",
    "df_1['urf_info'] = df_1['NO_URF'].str.replace(r'^\\d+\\s*-\\s*', '', regex=True)\n",
    "\n",
    "def separar_info(valor):\n",
    "    partes = valor.split(' - ')\n",
    "    if len(partes) == 2:\n",
    "        tipo, nome = partes\n",
    "    else:\n",
    "        tipo = None\n",
    "        nome = valor\n",
    "    return pd.Series([tipo, nome])\n",
    "\n",
    "df_1[['urf_tipo', 'urf_nome']] = df_1['urf_info'].apply(separar_info)\n",
    "\n",
    "df_1.drop(columns=['NO_URF', 'urf_info'], inplace=True)"
   ]
  },
  {
   "cell_type": "code",
   "execution_count": 49,
   "metadata": {},
   "outputs": [],
   "source": [
    "df_1 = df_1.drop(['cd_urf', 'CO_URF', 'urf_codigo', 'urf_tipo'], axis=1)"
   ]
  },
  {
   "cell_type": "code",
   "execution_count": 50,
   "metadata": {},
   "outputs": [],
   "source": [
    "url_via = '/home/edcarlos/Data-Analytics-Comercio-Exterior/datalake/raw_data/VIA.csv' \n",
    "df_via = pd.read_csv(url_via, sep=';',  encoding='latin1')"
   ]
  },
  {
   "cell_type": "code",
   "execution_count": 51,
   "metadata": {},
   "outputs": [],
   "source": [
    "def mesclar_dataframes(df_base: pd.DataFrame, df_referencia: pd.DataFrame, \n",
    "                       chave_base: str, chave_referencia: str) -> pd.DataFrame:\n",
    " \n",
    "    df_base[chave_base] = df_base[chave_base].astype(str)\n",
    "    df_referencia[chave_referencia] = df_referencia[chave_referencia].astype(str)\n",
    "\n",
    "    df_resultante = df_base.merge(df_referencia, left_on=chave_base, right_on=chave_referencia, how='left')\n",
    "    \n",
    "    return df_resultante\n",
    "\n",
    "df_2 = mesclar_dataframes(df_base=df_1, df_referencia=df_via, chave_base='cd_via', chave_referencia='CO_VIA')"
   ]
  },
  {
   "cell_type": "code",
   "execution_count": 52,
   "metadata": {},
   "outputs": [],
   "source": [
    "df_2 = df_2.drop(['cd_via', 'CO_VIA'], axis=1)"
   ]
  },
  {
   "cell_type": "code",
   "execution_count": 53,
   "metadata": {},
   "outputs": [],
   "source": [
    "url_pais = '/home/edcarlos/Data-Analytics-Comercio-Exterior/datalake/raw_data/PAIS.csv'\n",
    "df_pais = pd.read_csv(url_pais, sep=';',  encoding='latin1')"
   ]
  },
  {
   "cell_type": "code",
   "execution_count": 54,
   "metadata": {},
   "outputs": [],
   "source": [
    "def mesclar_dataframes(df_base: pd.DataFrame, df_referencia: pd.DataFrame, \n",
    "                       chave_base: str, chave_referencia: str) -> pd.DataFrame:\n",
    "\n",
    "    df_base[chave_base] = df_base[chave_base].astype(str)\n",
    "    df_referencia[chave_referencia] = df_referencia[chave_referencia].astype(str)\n",
    "\n",
    "    df_resultante = df_base.merge(df_referencia, left_on=chave_base, right_on=chave_referencia, how='left')\n",
    "    \n",
    "    return df_resultante\n",
    "\n",
    "df_3 = mesclar_dataframes(df_base=df_2, df_referencia=df_pais, chave_base='cd_pais', chave_referencia='CO_PAIS')"
   ]
  },
  {
   "cell_type": "code",
   "execution_count": 55,
   "metadata": {},
   "outputs": [],
   "source": [
    "df_3 = df_3.drop(columns=['cd_pais', 'CO_PAIS', 'CO_PAIS_ISON3',\n",
    "       'CO_PAIS_ISOA3', 'NO_PAIS_ING', 'NO_PAIS_ESP'])"
   ]
  },
  {
   "cell_type": "code",
   "execution_count": 56,
   "metadata": {},
   "outputs": [],
   "source": [
    "url_ncm_unidade = '/home/edcarlos/Data-Analytics-Comercio-Exterior/datalake/raw_data/NCM_UNIDADE.csv' \n",
    "df_ncm_unidade = pd.read_csv(url_ncm_unidade, sep=';',  encoding='latin1')  "
   ]
  },
  {
   "cell_type": "code",
   "execution_count": 57,
   "metadata": {},
   "outputs": [],
   "source": [
    "def mesclar_dataframes(df_base: pd.DataFrame, df_referencia: pd.DataFrame, \n",
    "                       chave_base: str, chave_referencia: str) -> pd.DataFrame:\n",
    "\n",
    "    df_base[chave_base] = df_base[chave_base].astype(str)\n",
    "    df_referencia[chave_referencia] = df_referencia[chave_referencia].astype(str)\n",
    "\n",
    "    df_resultante = df_base.merge(df_referencia, left_on=chave_base, right_on=chave_referencia, how='left')\n",
    "    \n",
    "    return df_resultante\n",
    "\n",
    "df_4 = mesclar_dataframes(df_base=df_3, df_referencia=df_ncm_unidade, chave_base='cd_unidade', chave_referencia='CO_UNID')"
   ]
  },
  {
   "cell_type": "code",
   "execution_count": 58,
   "metadata": {},
   "outputs": [],
   "source": [
    "df_4 = df_4.drop(columns=['cd_unidade', 'CO_UNID', 'SG_UNID'])"
   ]
  },
  {
   "cell_type": "code",
   "execution_count": 59,
   "metadata": {},
   "outputs": [],
   "source": [
    "df_4 = df_4.rename(columns={  \n",
    "     'sg_ufncm': 'sg_uf',\n",
    "    'NO_NCM_POR': 'cd_ncm',\n",
    "    'urf_nome': 'cd_urf',\n",
    "    'NO_VIA': 'cd_via',\n",
    "    'NO_PAIS': 'cd_pais',\n",
    "    'NO_UNID': 'cd_unidade'\n",
    "    })\n",
    "df_4.columns = df_4.columns.str.strip().str.lower().str.replace(' ', '_')"
   ]
  },
  {
   "cell_type": "code",
   "execution_count": 61,
   "metadata": {},
   "outputs": [],
   "source": [
    "def padronizar_colunas(df, colunas):\n",
    "\n",
    "    df[colunas] = df[colunas].apply(lambda x: x.str.strip().str.lower())\n",
    "    return df\n",
    "\n",
    "df_4 = padronizar_colunas(df_4, ['cd_ncm', 'cd_urf', 'cd_via', 'cd_pais', 'cd_unidade'])"
   ]
  },
  {
   "cell_type": "code",
   "execution_count": 62,
   "metadata": {},
   "outputs": [],
   "source": [
    "caminho = \"/home/edcarlos/Data-Analytics-Comercio-Exterior/datalake/silver/importacao_2024_m.csv\"\n",
    "df_4.to_csv(caminho, index=False)"
   ]
  }
 ],
 "metadata": {
  "kernelspec": {
   "display_name": "Python 3",
   "language": "python",
   "name": "python3"
  },
  "language_info": {
   "codemirror_mode": {
    "name": "ipython",
    "version": 3
   },
   "file_extension": ".py",
   "mimetype": "text/x-python",
   "name": "python",
   "nbconvert_exporter": "python",
   "pygments_lexer": "ipython3",
   "version": "3.11.9"
  }
 },
 "nbformat": 4,
 "nbformat_minor": 2
}
