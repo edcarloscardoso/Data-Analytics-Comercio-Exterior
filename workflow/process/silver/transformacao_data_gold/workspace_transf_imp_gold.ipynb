{
 "cells": [
  {
   "cell_type": "code",
   "execution_count": 1,
   "id": "02aa0933",
   "metadata": {},
   "outputs": [],
   "source": [
    "import pandas as pd\n",
    "import os"
   ]
  },
  {
   "cell_type": "code",
   "execution_count": 2,
   "id": "37eb74b9",
   "metadata": {},
   "outputs": [],
   "source": [
    "def read_file(file_name: str):\n",
    "    df = pd.read_csv(\n",
    "        f\"/home/edcarlos/Data-Analytics-Comercio-Exterior/datalake/silver/{file_name}.csv\"\n",
    "    )\n",
    "    return df\n",
    "\n",
    "folder_path = \"/home/edcarlos/Data-Analytics-Comercio-Exterior/datalake/silver/\"\n",
    "file_list = os.listdir(folder_path)\n",
    "\n"
   ]
  },
  {
   "cell_type": "code",
   "execution_count": 3,
   "id": "bb7ce0ba",
   "metadata": {},
   "outputs": [],
   "source": [
    "import_files = [\n",
    "    file for file in file_list \n",
    "    if file.endswith(\".csv\") and \"importacao\" in file.lower()\n",
    "]\n",
    "\n",
    "import_files.sort()\n",
    "\n",
    "import_dfs = [read_file(f.split(\".\")[0]) for f in import_files]\n",
    "df_importacao = pd.concat(import_dfs).reset_index(drop=True)"
   ]
  },
  {
   "cell_type": "code",
   "execution_count": 4,
   "id": "343ec380",
   "metadata": {},
   "outputs": [],
   "source": [
    "df_importacao.to_csv(\n",
    "    \"/home/edcarlos/Data-Analytics-Comercio-Exterior/datalake/gold/importacao_gold.csv\",\n",
    "    index=False\n",
    ")"
   ]
  }
 ],
 "metadata": {
  "kernelspec": {
   "display_name": "Python 3",
   "language": "python",
   "name": "python3"
  },
  "language_info": {
   "codemirror_mode": {
    "name": "ipython",
    "version": 3
   },
   "file_extension": ".py",
   "mimetype": "text/x-python",
   "name": "python",
   "nbconvert_exporter": "python",
   "pygments_lexer": "ipython3",
   "version": "3.11.9"
  }
 },
 "nbformat": 4,
 "nbformat_minor": 5
}
