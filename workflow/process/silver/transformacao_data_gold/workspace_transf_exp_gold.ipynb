{
 "cells": [
  {
   "cell_type": "code",
   "execution_count": 3,
   "id": "f002ad77",
   "metadata": {},
   "outputs": [],
   "source": [
    "import pandas as pd\n",
    "import os"
   ]
  },
  {
   "cell_type": "code",
   "execution_count": 4,
   "id": "e7a8da55",
   "metadata": {},
   "outputs": [],
   "source": [
    "def read_file(file_name: str):\n",
    "    df = pd.read_csv(\n",
    "        f\"/home/edcarlos/Data-Analytics-Comercio-Exterior/datalake/silver/{file_name}.csv\"\n",
    "    )\n",
    "    return df\n",
    "\n",
    "folder_path = \"/home/edcarlos/Data-Analytics-Comercio-Exterior/datalake/silver/\"\n",
    "file_list = os.listdir(folder_path)\n",
    "\n",
    "\n",
    "\n"
   ]
  },
  {
   "cell_type": "code",
   "execution_count": 5,
   "id": "55d7ef52",
   "metadata": {},
   "outputs": [],
   "source": [
    "export_files = [\n",
    "    file for file in file_list \n",
    "    if file.endswith(\".csv\") and \"exportacao\" in file.lower()\n",
    "]\n",
    "\n",
    "export_files.sort()\n",
    "\n",
    "export_dfs = [read_file(f.split(\".\")[0]) for f in export_files]\n",
    "df_exportacao = pd.concat(export_dfs).reset_index(drop=True)"
   ]
  },
  {
   "cell_type": "code",
   "execution_count": 6,
   "id": "53fbf85d",
   "metadata": {},
   "outputs": [],
   "source": [
    "df_exportacao.to_csv(\n",
    "    \"/home/edcarlos/Data-Analytics-Comercio-Exterior/datalake/gold/exportacao_gold.csv\",\n",
    "    index=False\n",
    ")"
   ]
  }
 ],
 "metadata": {
  "kernelspec": {
   "display_name": "Python 3",
   "language": "python",
   "name": "python3"
  },
  "language_info": {
   "codemirror_mode": {
    "name": "ipython",
    "version": 3
   },
   "file_extension": ".py",
   "mimetype": "text/x-python",
   "name": "python",
   "nbconvert_exporter": "python",
   "pygments_lexer": "ipython3",
   "version": "3.11.9"
  }
 },
 "nbformat": 4,
 "nbformat_minor": 5
}
